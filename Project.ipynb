{
 "cells": [
  {
   "cell_type": "markdown",
   "metadata": {},
   "source": [
    "# Libraries"
   ]
  },
  {
   "cell_type": "code",
   "execution_count": 92,
   "metadata": {},
   "outputs": [],
   "source": [
    "import math\n",
    "import random\n",
    "import numpy as np\n",
    "import gurobipy as gp\n",
    "from gurobipy import GRB"
   ]
  },
  {
   "cell_type": "markdown",
   "metadata": {},
   "source": [
    "# Module 1 + Module 2\n",
    "By combining *Module 1* and *Module 2* the problem is formally defined as follows:\n",
    "- a depot $0$ where all vehicles are located in the beginning\n",
    "- a set of customers $C = {1,...,N}$, we define locations $L = {0} + C$\n",
    "- a demand $d_i$ for each customer $i \\in C$ (the depot has no demand)\n",
    "- a time window $[a_i, b_i]$ with $0<a_i<b_i$ for each location $i \\in L$ (including the depot)\n",
    "- a service time $s_i$ for each customer $i \\in C$ (the depot has zero service time)\n",
    "- costs $c_{ij}$ and time $t_{ij}$ for travelling from location $i$ to location $j$\n",
    "- a homogeneous fleet $K = {1,...,|K|}$ of vehicles with load capacity $Q$\n",
    "\n",
    "The **objective** is:\n",
    "- to find a route for each vehicle, i.e., an ordered sequence of customers\n",
    "- with minimal total routing time, such that:\n",
    "    - each customer is visited exactly once\n",
    "    - the start times of the services have to be within the depot and customer time windows (potentially introducing waiting times between services),\n",
    "    - and the vehicle capacity is never exceeded"
   ]
  },
  {
   "cell_type": "markdown",
   "metadata": {},
   "source": [
    "## Input Configuration\n",
    "We configurate the input values:"
   ]
  },
  {
   "cell_type": "code",
   "execution_count": 93,
   "metadata": {},
   "outputs": [],
   "source": [
    "numCustomers = 5\n",
    "maxNumVehicles = 2\n",
    "\n",
    "vehicleCapacity = 30\n",
    "demandRange = (2, 5)\n",
    "\n",
    "timeHorizon = 100 # tmax\n",
    "timeWindowWidthRange = (10, 15)\n",
    "serviceTimeRange = (2, 4)"
   ]
  },
  {
   "cell_type": "markdown",
   "metadata": {},
   "source": [
    "## Instance Generation\n",
    "By using the values in the *Input Configuration*, we generate the instances of the problem:"
   ]
  },
  {
   "cell_type": "code",
   "execution_count": 94,
   "metadata": {},
   "outputs": [],
   "source": [
    "random.seed(0)\n",
    "\n",
    "depot = 0\n",
    "customers = [*range(1, numCustomers + 1)] # array of customers\n",
    "locations = [depot] + customers # depot + customers\n",
    "connections = [(i, j) for i in locations for j in locations if i != j] # set of all possible edges\n",
    "vehicles = [*range(1, maxNumVehicles + 1)] # array of vehicles\n",
    "\n",
    "# create random depot and customer locations in the Euclidian plane (1000x1000)\n",
    "points = [(random.randint(0, 999), random.randint(0, 999)) for i in locations]\n",
    "# dictionary of Euclidean distance for each connection (interpreted as travel costs)\n",
    "costs = {\n",
    "    (i, j): math.ceil(\n",
    "        math.sqrt(sum((points[i][k] - points[j][k]) ** 2 for k in range(2)))\n",
    "    )\n",
    "    for (i, j) in connections\n",
    "}\n",
    "maximalCosts = math.ceil(999 * math.sqrt(2))\n",
    "\n",
    "# dictionary of travel times for each connection (related to the costs, scaled to time horizon)\n",
    "travelTimes = {\n",
    "    (i, j): math.ceil((costs[i, j] / maximalCosts) * timeHorizon * 0.2)\n",
    "    for (i, j) in connections\n",
    "}\n",
    "\n",
    "# create random demands\n",
    "demands = {i: random.randint(demandRange[0], demandRange[1]) for i in customers}\n",
    "demands[0] = 0  # depot has no demand\n",
    "\n",
    "# create random service times,\n",
    "serviceTimes = {\n",
    "    i: random.randint(serviceTimeRange[0], serviceTimeRange[1]) for i in customers\n",
    "}\n",
    "serviceTimes[0] = 0  # depot has no service time\n",
    "\n",
    "# create random time windows\n",
    "timeWindowWidths = {\n",
    "    i: random.randint(timeWindowWidthRange[0], timeWindowWidthRange[1])\n",
    "    for i in customers\n",
    "}\n",
    "\n",
    "# vehicles are allowed to leave the depot any time within the time horizon\n",
    "timeWindowWidths[0] = timeHorizon\n",
    "\n",
    "# create time windows randomly based on the previously generated information\n",
    "# such that the service at a customer can be finished within the time horizon\n",
    "timeWindows = {}\n",
    "timeWindows[0] = (0, 0 + timeWindowWidths[0])\n",
    "for i in customers:\n",
    "    start = random.randint(0, timeHorizon - serviceTimes[i] - timeWindowWidths[i] - travelTimes[i,0])\n",
    "    timeWindows[i] = (start, start + timeWindowWidths[i])"
   ]
  },
  {
   "cell_type": "markdown",
   "metadata": {},
   "source": [
    "So now, we can print all these parameters:"
   ]
  },
  {
   "cell_type": "code",
   "execution_count": 95,
   "metadata": {},
   "outputs": [
    {
     "name": "stdout",
     "output_type": "stream",
     "text": [
      "Customer Demands:\n",
      "Customer 1: Demand = 4\n",
      "Customer 2: Demand = 5\n",
      "Customer 3: Demand = 4\n",
      "Customer 4: Demand = 3\n",
      "Customer 5: Demand = 3\n",
      "Customer 0: Demand = 0\n",
      "\n",
      "Customer Service Times:\n",
      "Customer 1: Service Time = 3\n",
      "Customer 2: Service Time = 2\n",
      "Customer 3: Service Time = 2\n",
      "Customer 4: Service Time = 4\n",
      "Customer 5: Service Time = 3\n",
      "Customer 0: Service Time = 0\n",
      "\n",
      "Customer Time Windows:\n",
      "Customer 0: Time Window = (0, 100)\n",
      "Customer 1: Time Window = (12, 26)\n",
      "Customer 2: Time Window = (9, 24)\n",
      "Customer 3: Time Window = (42, 56)\n",
      "Customer 4: Time Window = (60, 71)\n",
      "Customer 5: Time Window = (71, 83)\n",
      "\n",
      "Travel Times:\n",
      "Travel Time from 0 to 1: 8\n",
      "Travel Time from 0 to 2: 8\n",
      "Travel Time from 0 to 3: 12\n",
      "Travel Time from 0 to 4: 6\n",
      "Travel Time from 0 to 5: 11\n",
      "Travel Time from 1 to 0: 8\n",
      "Travel Time from 1 to 2: 14\n",
      "Travel Time from 1 to 3: 8\n",
      "Travel Time from 1 to 4: 7\n",
      "Travel Time from 1 to 5: 6\n",
      "Travel Time from 2 to 0: 8\n",
      "Travel Time from 2 to 1: 14\n",
      "Travel Time from 2 to 3: 14\n",
      "Travel Time from 2 to 4: 7\n",
      "Travel Time from 2 to 5: 13\n",
      "Travel Time from 3 to 0: 12\n",
      "Travel Time from 3 to 1: 8\n",
      "Travel Time from 3 to 2: 14\n",
      "Travel Time from 3 to 4: 8\n",
      "Travel Time from 3 to 5: 3\n",
      "Travel Time from 4 to 0: 6\n",
      "Travel Time from 4 to 1: 7\n",
      "Travel Time from 4 to 2: 7\n",
      "Travel Time from 4 to 3: 8\n",
      "Travel Time from 4 to 5: 7\n",
      "Travel Time from 5 to 0: 11\n",
      "Travel Time from 5 to 1: 6\n",
      "Travel Time from 5 to 2: 13\n",
      "Travel Time from 5 to 3: 3\n",
      "Travel Time from 5 to 4: 7\n"
     ]
    }
   ],
   "source": [
    "print(\"Customer Demands:\")\n",
    "for customer, demand in demands.items():\n",
    "    print(f\"Customer {customer}: Demand = {demand}\")\n",
    "\n",
    "print(\"\\nCustomer Service Times:\")\n",
    "for customer, service_time in serviceTimes.items():\n",
    "    print(f\"Customer {customer}: Service Time = {service_time}\")\n",
    "\n",
    "print(\"\\nCustomer Time Windows:\")\n",
    "for customer, window in timeWindows.items():\n",
    "    print(f\"Customer {customer}: Time Window = {window}\")\n",
    "\n",
    "print(\"\\nTravel Times:\")\n",
    "for (i, j), time in list(travelTimes.items()):\n",
    "    print(f\"Travel Time from {i} to {j}: {time}\")"
   ]
  },
  {
   "cell_type": "markdown",
   "metadata": {},
   "source": [
    "## Model Generation\n",
    "In this section we will see two different mathematical formulations of this problem:\n",
    "- Big - M Model\n",
    "- Flow Model\n",
    "\n",
    "In particular, the two models just mentioned share the same basic model (Vehicle Routing Problem), but differ with regard to capacity and time constraints."
   ]
  },
  {
   "cell_type": "markdown",
   "metadata": {},
   "source": [
    "### Big - M Model\n",
    "**Decision Variables**:\n",
    "- $x_{ij} = \n",
    "\\begin{cases} \n",
    "1 & \\text{if a vehicle traverses arc (i, j)} \\\\\n",
    "0 & \\text{otherwise}\n",
    "\\end{cases}\n",
    "$\n",
    "- $y_i$ for each location $i \\in L$ to denote the **vehicle load after picking up the demand at $i$**.\n",
    "- $z_i$ for each location $i \\in L$ to denote the **start time of the service at $i$** that has to be within its time window"
   ]
  },
  {
   "cell_type": "code",
   "execution_count": 96,
   "metadata": {},
   "outputs": [],
   "source": [
    "model_M = gp.Model(\"VRPTW\")\n",
    "\n",
    "x = model_M.addVars(connections, vtype=GRB.BINARY, name=\"x\")\n",
    "\n",
    "y = model_M.addVars(locations, lb=0, ub=vehicleCapacity, name=\"y\")\n",
    "y[0].UB = 0\n",
    "\n",
    "z = model_M.addVars(locations, name=\"z\")\n",
    "for i in locations:\n",
    "    z[i].LB = timeWindows[i][0] \n",
    "    z[i].UB = timeWindows[i][1]"
   ]
  },
  {
   "cell_type": "markdown",
   "metadata": {},
   "source": [
    "**Objective Function:**\n",
    "\n",
    "Minimize the total travel time. Travel time doesn't consider the service time of each customer:\n",
    "$$\n",
    "\\text{min} \\sum_{i,j \\in \\mathcal{L}} c_{ij}x_{ij}\n",
    "$$"
   ]
  },
  {
   "cell_type": "code",
   "execution_count": 97,
   "metadata": {},
   "outputs": [],
   "source": [
    "model_M.setObjective(gp.quicksum(travelTimes[i,j]*x[i,j] for i,j in connections), GRB.MINIMIZE)"
   ]
  },
  {
   "cell_type": "markdown",
   "metadata": {},
   "source": [
    "**Constraints:**\n",
    "- Each customer is visited exactly once, i.e., there is exactly one incoming connection and exactly one    outgoing connection:\n",
    "$$\n",
    "\\sum_{j \\in \\mathcal{L}} x_{ij} = 1 \\quad \\forall i \\in \\mathcal{C}\n",
    "$$\n",
    "\n",
    "$$\n",
    "\\sum_{i \\in \\mathcal{L}} x_{ij} = 1 \\quad \\forall j \\in \\mathcal{C}\n",
    "$$"
   ]
  },
  {
   "cell_type": "code",
   "execution_count": 98,
   "metadata": {},
   "outputs": [
    {
     "data": {
      "text/plain": [
       "{1: <gurobi.Constr *Awaiting Model Update*>,\n",
       " 2: <gurobi.Constr *Awaiting Model Update*>,\n",
       " 3: <gurobi.Constr *Awaiting Model Update*>,\n",
       " 4: <gurobi.Constr *Awaiting Model Update*>,\n",
       " 5: <gurobi.Constr *Awaiting Model Update*>}"
      ]
     },
     "execution_count": 98,
     "metadata": {},
     "output_type": "execute_result"
    }
   ],
   "source": [
    "model_M.addConstrs((x.sum(\"*\", j) == 1 for j in customers), name=\"incoming\")\n",
    "model_M.addConstrs((x.sum(i, \"*\") == 1 for i in customers), name=\"outgoing\")"
   ]
  },
  {
   "cell_type": "markdown",
   "metadata": {},
   "source": [
    "- At most $|K|$ vehicles can be used:\n",
    "$$\n",
    "\\sum_{j \\in \\mathcal{C}} x_{0j} \\leq |K|\n",
    "$$"
   ]
  },
  {
   "cell_type": "code",
   "execution_count": 99,
   "metadata": {},
   "outputs": [
    {
     "data": {
      "text/plain": [
       "<gurobi.Constr *Awaiting Model Update*>"
      ]
     },
     "execution_count": 99,
     "metadata": {},
     "output_type": "execute_result"
    }
   ],
   "source": [
    "model_M.addConstr(x.sum(0, \"*\") <= maxNumVehicles, name=\"maxNumVehicles\")"
   ]
  },
  {
   "cell_type": "markdown",
   "metadata": {},
   "source": [
    "- We can also compute a lower bound on the number of needed vehicles, that is the sum of all demands divided by the vehicle capacity:\n",
    "$$\n",
    "\\sum_{j \\in \\mathcal{C}} x_{0j} \\geq \\left\\lceil \\frac{\\sum_{i \\in \\mathcal{C}} d_i}{Q} \\right\\rceil\n",
    "$$"
   ]
  },
  {
   "cell_type": "code",
   "execution_count": 100,
   "metadata": {},
   "outputs": [
    {
     "data": {
      "text/plain": [
       "<gurobi.Constr *Awaiting Model Update*>"
      ]
     },
     "execution_count": 100,
     "metadata": {},
     "output_type": "execute_result"
    }
   ],
   "source": [
    "def numVehiclesNeededForCustomers(customers):\n",
    "    sumDemand = 0\n",
    "    for i in customers:\n",
    "        sumDemand += demands[i]\n",
    "    return math.ceil(sumDemand / vehicleCapacity)\n",
    "\n",
    "model_M.addConstr(\n",
    "    x.sum(0, \"*\") >= numVehiclesNeededForCustomers(customers),\n",
    "    name=\"minNumVehicles\",\n",
    ")"
   ]
  },
  {
   "cell_type": "markdown",
   "metadata": {},
   "source": [
    "- The current capacity of the vehicle must not exceed the maximum capacity of the vehicle:\n",
    "    $$y_i + d_j \\le y_j + Q(1 - x_{ij}) \\quad \\forall i \\in L, j \\in C, i \\neq j$$\n",
    "    In particular:\n",
    "    - if $x_{ij} = 1$: the vehicle travels from $i$ to $j$. So, $y_j$ must be equal or greater than $y_i + d_j$\n",
    "    - if $x_{ij} = 0$: it ensures that vehicle capacity si not exceed."
   ]
  },
  {
   "cell_type": "code",
   "execution_count": 101,
   "metadata": {},
   "outputs": [
    {
     "data": {
      "text/plain": [
       "{(0, 1): <gurobi.Constr *Awaiting Model Update*>,\n",
       " (0, 2): <gurobi.Constr *Awaiting Model Update*>,\n",
       " (0, 3): <gurobi.Constr *Awaiting Model Update*>,\n",
       " (0, 4): <gurobi.Constr *Awaiting Model Update*>,\n",
       " (0, 5): <gurobi.Constr *Awaiting Model Update*>,\n",
       " (1, 2): <gurobi.Constr *Awaiting Model Update*>,\n",
       " (1, 3): <gurobi.Constr *Awaiting Model Update*>,\n",
       " (1, 4): <gurobi.Constr *Awaiting Model Update*>,\n",
       " (1, 5): <gurobi.Constr *Awaiting Model Update*>,\n",
       " (2, 1): <gurobi.Constr *Awaiting Model Update*>,\n",
       " (2, 3): <gurobi.Constr *Awaiting Model Update*>,\n",
       " (2, 4): <gurobi.Constr *Awaiting Model Update*>,\n",
       " (2, 5): <gurobi.Constr *Awaiting Model Update*>,\n",
       " (3, 1): <gurobi.Constr *Awaiting Model Update*>,\n",
       " (3, 2): <gurobi.Constr *Awaiting Model Update*>,\n",
       " (3, 4): <gurobi.Constr *Awaiting Model Update*>,\n",
       " (3, 5): <gurobi.Constr *Awaiting Model Update*>,\n",
       " (4, 1): <gurobi.Constr *Awaiting Model Update*>,\n",
       " (4, 2): <gurobi.Constr *Awaiting Model Update*>,\n",
       " (4, 3): <gurobi.Constr *Awaiting Model Update*>,\n",
       " (4, 5): <gurobi.Constr *Awaiting Model Update*>,\n",
       " (5, 1): <gurobi.Constr *Awaiting Model Update*>,\n",
       " (5, 2): <gurobi.Constr *Awaiting Model Update*>,\n",
       " (5, 3): <gurobi.Constr *Awaiting Model Update*>,\n",
       " (5, 4): <gurobi.Constr *Awaiting Model Update*>}"
      ]
     },
     "execution_count": 101,
     "metadata": {},
     "output_type": "execute_result"
    }
   ],
   "source": [
    "model_M.addConstrs(\n",
    "    (\n",
    "        y[i] + demands[j] <= y[j] + vehicleCapacity * (1 - x[i, j])\n",
    "        for i in locations\n",
    "        for j in customers\n",
    "        if i != j\n",
    "    ),\n",
    "    name=\"loadBigM1\",\n",
    ")"
   ]
  },
  {
   "cell_type": "markdown",
   "metadata": {},
   "source": [
    "- This constraint ensures that, if arc $(i, j)$ is travelled then the load at node $j$ must be greater or equal to $y_i + d_j$:\n",
    "    $$y_i + d_j \\geq y_j - M_{ij}(1 - x_{ij}) \\quad \\forall i \\in L, j \\in C, i \\neq j$$\n",
    "    In particular, if the arc $(i, j)$ is not travelled then the inequality becomes non-binding since $M$ is a big constant"
   ]
  },
  {
   "cell_type": "code",
   "execution_count": 102,
   "metadata": {},
   "outputs": [
    {
     "data": {
      "text/plain": [
       "{(0, 1): <gurobi.Constr *Awaiting Model Update*>,\n",
       " (0, 2): <gurobi.Constr *Awaiting Model Update*>,\n",
       " (0, 3): <gurobi.Constr *Awaiting Model Update*>,\n",
       " (0, 4): <gurobi.Constr *Awaiting Model Update*>,\n",
       " (0, 5): <gurobi.Constr *Awaiting Model Update*>,\n",
       " (1, 2): <gurobi.Constr *Awaiting Model Update*>,\n",
       " (1, 3): <gurobi.Constr *Awaiting Model Update*>,\n",
       " (1, 4): <gurobi.Constr *Awaiting Model Update*>,\n",
       " (1, 5): <gurobi.Constr *Awaiting Model Update*>,\n",
       " (2, 1): <gurobi.Constr *Awaiting Model Update*>,\n",
       " (2, 3): <gurobi.Constr *Awaiting Model Update*>,\n",
       " (2, 4): <gurobi.Constr *Awaiting Model Update*>,\n",
       " (2, 5): <gurobi.Constr *Awaiting Model Update*>,\n",
       " (3, 1): <gurobi.Constr *Awaiting Model Update*>,\n",
       " (3, 2): <gurobi.Constr *Awaiting Model Update*>,\n",
       " (3, 4): <gurobi.Constr *Awaiting Model Update*>,\n",
       " (3, 5): <gurobi.Constr *Awaiting Model Update*>,\n",
       " (4, 1): <gurobi.Constr *Awaiting Model Update*>,\n",
       " (4, 2): <gurobi.Constr *Awaiting Model Update*>,\n",
       " (4, 3): <gurobi.Constr *Awaiting Model Update*>,\n",
       " (4, 5): <gurobi.Constr *Awaiting Model Update*>,\n",
       " (5, 1): <gurobi.Constr *Awaiting Model Update*>,\n",
       " (5, 2): <gurobi.Constr *Awaiting Model Update*>,\n",
       " (5, 3): <gurobi.Constr *Awaiting Model Update*>,\n",
       " (5, 4): <gurobi.Constr *Awaiting Model Update*>}"
      ]
     },
     "execution_count": 102,
     "metadata": {},
     "output_type": "execute_result"
    }
   ],
   "source": [
    "model_M.addConstrs(\n",
    "    (\n",
    "        y[i] + demands[j]\n",
    "        >= y[j] - (vehicleCapacity - demands[i] - demands[j]) * (1 - x[i, j])\n",
    "        for i in locations\n",
    "        for j in customers\n",
    "        if i != j\n",
    "    ),\n",
    "    name=\"loadBigM2\",\n",
    ")"
   ]
  },
  {
   "cell_type": "markdown",
   "metadata": {},
   "source": [
    "- This constraint manages the time required to pass from a node $i$ to a node $j$, taking into account the service time at node $i$ ($s(i)$) and the travel time between $i$ and $j$ ($t_{ij}$):\n",
    "    $$z_i + s_i + t_{ij} \\leq z_j + T(1 - x_{ij}) \\quad \\forall i \\in L, j \\in C, i \\neq j$$\n",
    "    In particular, if the arc $(i, j)$ is not travelled, then $x_{ij} = 0$ and the constraint is not activated because of the big term $T$."
   ]
  },
  {
   "cell_type": "code",
   "execution_count": 103,
   "metadata": {},
   "outputs": [
    {
     "data": {
      "text/plain": [
       "{(0, 1): <gurobi.Constr *Awaiting Model Update*>,\n",
       " (0, 2): <gurobi.Constr *Awaiting Model Update*>,\n",
       " (0, 3): <gurobi.Constr *Awaiting Model Update*>,\n",
       " (0, 4): <gurobi.Constr *Awaiting Model Update*>,\n",
       " (0, 5): <gurobi.Constr *Awaiting Model Update*>,\n",
       " (1, 2): <gurobi.Constr *Awaiting Model Update*>,\n",
       " (1, 3): <gurobi.Constr *Awaiting Model Update*>,\n",
       " (1, 4): <gurobi.Constr *Awaiting Model Update*>,\n",
       " (1, 5): <gurobi.Constr *Awaiting Model Update*>,\n",
       " (2, 1): <gurobi.Constr *Awaiting Model Update*>,\n",
       " (2, 3): <gurobi.Constr *Awaiting Model Update*>,\n",
       " (2, 4): <gurobi.Constr *Awaiting Model Update*>,\n",
       " (2, 5): <gurobi.Constr *Awaiting Model Update*>,\n",
       " (3, 1): <gurobi.Constr *Awaiting Model Update*>,\n",
       " (3, 2): <gurobi.Constr *Awaiting Model Update*>,\n",
       " (3, 4): <gurobi.Constr *Awaiting Model Update*>,\n",
       " (3, 5): <gurobi.Constr *Awaiting Model Update*>,\n",
       " (4, 1): <gurobi.Constr *Awaiting Model Update*>,\n",
       " (4, 2): <gurobi.Constr *Awaiting Model Update*>,\n",
       " (4, 3): <gurobi.Constr *Awaiting Model Update*>,\n",
       " (4, 5): <gurobi.Constr *Awaiting Model Update*>,\n",
       " (5, 1): <gurobi.Constr *Awaiting Model Update*>,\n",
       " (5, 2): <gurobi.Constr *Awaiting Model Update*>,\n",
       " (5, 3): <gurobi.Constr *Awaiting Model Update*>,\n",
       " (5, 4): <gurobi.Constr *Awaiting Model Update*>}"
      ]
     },
     "execution_count": 103,
     "metadata": {},
     "output_type": "execute_result"
    }
   ],
   "source": [
    "model_M.addConstrs(\n",
    "        (\n",
    "            z[i] + serviceTimes[i] + travelTimes[i, j]\n",
    "            <= z[j]\n",
    "            + (\n",
    "                timeWindows[i][1]\n",
    "                + serviceTimes[i]\n",
    "                + travelTimes[i, j]\n",
    "                - timeWindows[j][0]\n",
    "            )\n",
    "            * (1 - x[i, j])\n",
    "            for i in locations\n",
    "            for j in customers\n",
    "            if i != j\n",
    "        ),\n",
    "        name=\"timeBigM\",\n",
    "    )"
   ]
  },
  {
   "cell_type": "markdown",
   "metadata": {},
   "source": [
    "So, we can now optimize the model and plot the solution:"
   ]
  },
  {
   "cell_type": "code",
   "execution_count": 104,
   "metadata": {},
   "outputs": [
    {
     "name": "stdout",
     "output_type": "stream",
     "text": [
      "Objective Value:  51.0\n",
      "Solution contains 2 routes:\n",
      "Route 0: 0 -> 1 (L:0, T:8) -> 3 (L:4, T:23) -> 5 (L:8, T:47) -> 0 (L:11/30, T:85)\n",
      "Route 1: 0 -> 2 (L:0, T:8) -> 4 (L:5, T:18) -> 0 (L:8/30, T:70)\n",
      "Unvisited customers: \n",
      "Client 1: service start time = 26.0, time window = (12, 26)\n",
      "Client 2: service start time = 9.0, time window = (9, 24)\n",
      "Client 3: service start time = 42.0, time window = (42, 56)\n",
      "Client 4: service start time = 60.0, time window = (60, 71)\n",
      "Client 5: service start time = 83.0, time window = (71, 83)\n"
     ]
    }
   ],
   "source": [
    "model_M.Params.OutputFlag = 0\n",
    "\n",
    "model_M.optimize()\n",
    "\n",
    "if model_M.SolCount >= 1:\n",
    "\n",
    "    print(\"Objective Value: \", model_M.objVal)\n",
    "\n",
    "    usedConnections = [(i, j) for (i, j) in x.keys() if x[i, j].X > 0.5]\n",
    "\n",
    "    # create a dict for the next customer based on the current one\n",
    "    # (note that the depot in general has multiple outgoing connections)\n",
    "    nextCustomer = {}\n",
    "    for (i, j) in usedConnections:\n",
    "        if i == 0:\n",
    "            if 0 not in nextCustomer.keys():\n",
    "                nextCustomer[0] = []\n",
    "            nextCustomer[0].append(j)\n",
    "        else:\n",
    "            nextCustomer[i] = j\n",
    "\n",
    "    print(f\"Solution contains {len(nextCustomer[0])} routes:\")\n",
    "    routeNumber = 0\n",
    "    visitedCustomers = [False] * (numCustomers + 1)\n",
    "    for firstCustomer in nextCustomer[0]:\n",
    "        print(f\"Route {routeNumber}: 0 -> \", end=\"\")\n",
    "        vehicleLoad = 0\n",
    "        time = travelTimes[0, firstCustomer]\n",
    "        violatedTimeWindows = False\n",
    "        currentCustomer = firstCustomer\n",
    "        while currentCustomer != 0:\n",
    "            print(f\"{currentCustomer} (L:{vehicleLoad}, T:{time}) -> \", end=\"\")\n",
    "            visitedCustomers[currentCustomer] = True\n",
    "            vehicleLoad += demands[currentCustomer]\n",
    "            time = max(time, timeWindows[currentCustomer][0])\n",
    "            if time > timeWindows[currentCustomer][1]:\n",
    "                violatedTimeWindows = True\n",
    "            time += (\n",
    "                serviceTimes[currentCustomer]\n",
    "                + travelTimes[currentCustomer, nextCustomer[currentCustomer]]\n",
    "            )\n",
    "            currentCustomer = nextCustomer[currentCustomer]\n",
    "        print(f\"0 (L:{vehicleLoad}/{vehicleCapacity}, T:{time})\")\n",
    "        if vehicleLoad > vehicleCapacity:\n",
    "            print(\"Vehicle capacity is exceeded!\")\n",
    "        if violatedTimeWindows:\n",
    "            print(\"Time windows are violated!\")\n",
    "        routeNumber += 1\n",
    "\n",
    "    print(\"Unvisited customers: \", end=\"\")\n",
    "    for c in customers:\n",
    "        if visitedCustomers[c] == False:\n",
    "            print(f\"{c}, \", end=\"\")\n",
    "    print()\n",
    "    for c in customers: \n",
    "        print(f\"Client {c}: service start time = {model_M.getAttr('x', z)[c]}, time window = {timeWindows[c]}\")"
   ]
  },
  {
   "cell_type": "markdown",
   "metadata": {},
   "source": [
    "### Flow Model\n",
    "Now, we extend the meaning of the variables used in the Big-M model. We do not associate resource states to customers anymore but instead to connections between customers.\n",
    "\n",
    "**Decision Variables:**\n",
    "- $x_{ij} = \n",
    "\\begin{cases} \n",
    "1 & \\text{if a vehicle traverses arc (i, j)} \\\\\n",
    "0 & \\text{otherwise}\n",
    "\\end{cases}\n",
    "$\n",
    "- $y_{ij}$ for each connection $(i, j)$ to denote the vehicle load after picking up the demand at $i$ and proceeding to location $j$.\n",
    "- $z_{ij}$ for each connection $(i, j)$ to denote the start time of the service at $i$ (which must be within its time window) when immediately proceeding to location $j$.\n",
    "\n"
   ]
  },
  {
   "cell_type": "code",
   "execution_count": 105,
   "metadata": {},
   "outputs": [],
   "source": [
    "model_flow = gp.Model(\"VRPTW\")\n",
    "\n",
    "x = model_flow.addVars(connections, vtype=GRB.BINARY, name=\"x\")\n",
    "\n",
    "y = model_flow.addVars(connections, lb=0, ub=vehicleCapacity, name=\"y\")\n",
    "\n",
    "for i in customers:\n",
    "    y[0, i].UB = 0\n",
    "\n",
    "z = model_flow.addVars(connections, lb=0, name=\"z\")\n",
    "\n",
    "for (i, j) in connections:\n",
    "    z[i, j].UB = timeWindows[i][1]"
   ]
  },
  {
   "cell_type": "markdown",
   "metadata": {},
   "source": [
    "**Objective Function:**\n",
    "\n",
    "Minimize the total travel time. Travel time doesn't consider the service time of each customer:\n",
    "$$\n",
    "\\text{min} \\sum_{i,j \\in \\mathcal{L}} c_{ij}x_{ij}\n",
    "$$"
   ]
  },
  {
   "cell_type": "code",
   "execution_count": 106,
   "metadata": {},
   "outputs": [],
   "source": [
    "model_flow.setObjective(gp.quicksum(travelTimes[i,j]*x[i,j] for i,j in connections), GRB.MINIMIZE)"
   ]
  },
  {
   "cell_type": "markdown",
   "metadata": {},
   "source": [
    "**Constraints:**"
   ]
  },
  {
   "cell_type": "markdown",
   "metadata": {},
   "source": []
  }
 ],
 "metadata": {
  "kernelspec": {
   "display_name": "Python 3",
   "language": "python",
   "name": "python3"
  },
  "language_info": {
   "codemirror_mode": {
    "name": "ipython",
    "version": 3
   },
   "file_extension": ".py",
   "mimetype": "text/x-python",
   "name": "python",
   "nbconvert_exporter": "python",
   "pygments_lexer": "ipython3",
   "version": "3.10.12"
  }
 },
 "nbformat": 4,
 "nbformat_minor": 2
}
