{
 "cells": [
  {
   "cell_type": "markdown",
   "metadata": {},
   "source": [
    "# Project Discrete Optimization and Decision Making"
   ]
  },
  {
   "cell_type": "markdown",
   "metadata": {},
   "source": [
    "## First point"
   ]
  },
  {
   "cell_type": "markdown",
   "metadata": {},
   "source": [
    "This project involves designing an efficient last-mile delivery system for a city. A company has a set of customers $C = \\{1, \\ldots, \\overline{c}\\}$, each requiring the delivery of a package. The weight of each package $w_c, c \\in C$ is known. The delivery time for each customer is equal to $s_c, c \\in C$. The company has a set $K = \\{1, \\ldots, \\overline{k}\\}$ of delivery vans available that all start from the same depot $0$ at time $0$, have the same capacity $W$, and must return to the depot withing $t_{max}$. Each vehicle can exit the depot at most once. The problem can be formulated on a complete directed graph $G = (V, A)$ where $V = C \\cup \\{0\\}$ is the set of nodes and $A = \\{(i,j) | i, j \\in V, i \\neq j\\}$ is the set of arcs. Each arc can be traveled at most once by any of the vehicles. For each arc $(i, j) \\in A$, let us define the time $t_{ij}$ required to travel over the arc. Travel times satisfy the triangle inequality. The goal of the company is to minimize the total time required to complete the service for all customers. Provide a mathematical formulation of the problem and its optimal solution. "
   ]
  },
  {
   "cell_type": "markdown",
   "metadata": {},
   "source": [
    "### Mathematical Model"
   ]
  },
  {
   "cell_type": "code",
   "execution_count": 1,
   "metadata": {},
   "outputs": [],
   "source": [
    "import gurobipy as gp\n",
    "from gurobipy import GRB"
   ]
  },
  {
   "cell_type": "markdown",
   "metadata": {},
   "source": [
    "#### Constants"
   ]
  },
  {
   "cell_type": "markdown",
   "metadata": {},
   "source": [
    "* $C = \\{1, \\ldots, \\overline{c}\\}$: Set of customers.\n",
    "* $K = \\{1, \\ldots, \\overline{k}\\}$: Set of delivery vans.\n",
    "* $V = C \\cup \\{0\\}$: Set of nodes (customers and depot).\n",
    "* $A = \\{(i,j) | i,j \\in V, i \\neq j\\}$: Set of arcs.\n",
    "* $w_c$: Weight of the package for customer $c$.\n",
    "* $s_c$: Delivery time for customer $c$.\n",
    "* $t_{ij}$: Travel time from node $i$ to node $j$.\n",
    "* $W$: Capacity of each vehicle.\n",
    "* $t_{max}$: Maximum allowed time for a vehicle to be out of the depot"
   ]
  },
  {
   "cell_type": "code",
   "execution_count": 2,
   "metadata": {},
   "outputs": [],
   "source": [
    "# Sets and parameters\n",
    "C = range(1, 3)  # Example set of customers\n",
    "K = range(1, 3)  # Example set of vans\n",
    "V = [0] + list(C)  # Set of nodes including the depot (0)\n",
    "W = 20  # Capacity of each van\n",
    "t_max = 100  # Maximum allowed time for each van\n",
    "\n",
    "w_c = {c: 10 for c in C}  # Weights of packages\n",
    "s_c = [0,10,10]  # Delivery times\n",
    "t_ij = {(i, j): 1 for i in V for j in V if i != j}  # Travel times"
   ]
  },
  {
   "cell_type": "code",
   "execution_count": 3,
   "metadata": {},
   "outputs": [
    {
     "name": "stdout",
     "output_type": "stream",
     "text": [
      "Set parameter Username\n",
      "Academic license - for non-commercial use only - expires 2025-04-10\n"
     ]
    }
   ],
   "source": [
    "# Create a new model\n",
    "model = gp.Model(\"last_mile_delivery\")"
   ]
  },
  {
   "cell_type": "markdown",
   "metadata": {},
   "source": [
    "#### Variables"
   ]
  },
  {
   "cell_type": "markdown",
   "metadata": {},
   "source": [
    "* $x_{ij}^k$: A binary variable that is 1 if vehicle k travels from node i to node j, and 0 otherwise.\n",
    "* $t_i$: The time at which service starts at node i.\n",
    "* $y_k$: A binary variable that is 1 if vehicle k is used, and 0 otherwise."
   ]
  },
  {
   "cell_type": "code",
   "execution_count": 4,
   "metadata": {},
   "outputs": [],
   "source": [
    "x = model.addVars(V, V, K, vtype=GRB.BINARY, name=\"x\")\n",
    "t = model.addVars(V, vtype=GRB.CONTINUOUS, name=\"t\")\n",
    "y = model.addVars(K, vtype=GRB.BINARY, name=\"y\")"
   ]
  },
  {
   "cell_type": "markdown",
   "metadata": {},
   "source": [
    "#### Model"
   ]
  },
  {
   "cell_type": "markdown",
   "metadata": {},
   "source": [
    "Minimize the total required to complete the service for all customers."
   ]
  },
  {
   "cell_type": "markdown",
   "metadata": {},
   "source": [
    "$ \\begin{align}\\min\\sum_{k\\in K}\\sum_{i \\in V}\\sum_{j \\in V}t_{ij}x^k_{ij}\\end{align}$"
   ]
  },
  {
   "cell_type": "code",
   "execution_count": 5,
   "metadata": {},
   "outputs": [],
   "source": [
    "model.setObjective(gp.quicksum(t_ij[i, j] * x[i, j, k] for i in V for j in V if i != j for k in K), GRB.MINIMIZE)"
   ]
  },
  {
   "cell_type": "markdown",
   "metadata": {},
   "source": [
    "Each customer is visited exactly once by one vehicle"
   ]
  },
  {
   "cell_type": "markdown",
   "metadata": {},
   "source": [
    "$ \\begin{align}\\sum_{k \\in K}\\sum_{i \\in V}x^k_{ij} = 1 \\ \\ \\ \\ \\forall j \\in C\\end{align}$"
   ]
  },
  {
   "cell_type": "code",
   "execution_count": 6,
   "metadata": {},
   "outputs": [
    {
     "data": {
      "text/plain": [
       "{1: <gurobi.Constr *Awaiting Model Update*>,\n",
       " 2: <gurobi.Constr *Awaiting Model Update*>}"
      ]
     },
     "execution_count": 6,
     "metadata": {},
     "output_type": "execute_result"
    }
   ],
   "source": [
    "#Each customer is visited exactly once by one vehicle\n",
    "model.addConstrs((gp.quicksum(x[i, j, k] for i in V if i != j for k in K) == 1 for j in C), name=\"visit_once\")"
   ]
  },
  {
   "cell_type": "markdown",
   "metadata": {},
   "source": [
    "One vehicle enter and One vehicle exit from a node"
   ]
  },
  {
   "cell_type": "markdown",
   "metadata": {},
   "source": [
    "$ \\begin{align}\\sum_{j \\in V} x^k_{ij} = \\sum_{j \\in V}x_{ji}^k \\ \\ \\ \\ \\forall k \\in K, \\ \\forall i \\in V \\end{align}$"
   ]
  },
  {
   "cell_type": "code",
   "execution_count": 7,
   "metadata": {},
   "outputs": [
    {
     "data": {
      "text/plain": [
       "{(1, 0): <gurobi.Constr *Awaiting Model Update*>,\n",
       " (1, 1): <gurobi.Constr *Awaiting Model Update*>,\n",
       " (1, 2): <gurobi.Constr *Awaiting Model Update*>,\n",
       " (2, 0): <gurobi.Constr *Awaiting Model Update*>,\n",
       " (2, 1): <gurobi.Constr *Awaiting Model Update*>,\n",
       " (2, 2): <gurobi.Constr *Awaiting Model Update*>}"
      ]
     },
     "execution_count": 7,
     "metadata": {},
     "output_type": "execute_result"
    }
   ],
   "source": [
    "# Flow conservation for each vehicle\n",
    "model.addConstrs((gp.quicksum(x[i, j, k] for j in V if i != j) == gp.quicksum(x[j, i, k] for j in V if i != j) for k in K for i in V), name=\"flow_conservation\")"
   ]
  },
  {
   "cell_type": "markdown",
   "metadata": {},
   "source": [
    "Capacity contraint for each vehicle: a vehicle can't transport more than W kg"
   ]
  },
  {
   "cell_type": "markdown",
   "metadata": {},
   "source": [
    "$ \\begin{align}\\sum_{c\\in C}w_c \\sum_{j\\in V}x^k_{cj} \\leq W \\ \\ \\ \\ \\forall k \\in K \\end{align}$"
   ]
  },
  {
   "cell_type": "code",
   "execution_count": 8,
   "metadata": {},
   "outputs": [
    {
     "data": {
      "text/plain": [
       "{1: <gurobi.Constr *Awaiting Model Update*>,\n",
       " 2: <gurobi.Constr *Awaiting Model Update*>}"
      ]
     },
     "execution_count": 8,
     "metadata": {},
     "output_type": "execute_result"
    }
   ],
   "source": [
    "# Capacity constraint for each vehicle\n",
    "model.addConstrs((gp.quicksum(w_c[c] * gp.quicksum(x[c, j, k] for j in V if c != j) for c in C) <= W for k in K), name=\"capacity\")"
   ]
  },
  {
   "cell_type": "markdown",
   "metadata": {},
   "source": [
    "Maximum route duration for each vehicle:"
   ]
  },
  {
   "cell_type": "markdown",
   "metadata": {},
   "source": [
    "$ \\begin{align}\\sum_{i \\in V}\\sum_{j\\in V}t_{ij}x_{ij}^k \\leq t_{max} \\ \\ \\ \\ \\forall k \\in K \\end{align}$"
   ]
  },
  {
   "cell_type": "code",
   "execution_count": 9,
   "metadata": {},
   "outputs": [
    {
     "data": {
      "text/plain": [
       "{1: <gurobi.Constr *Awaiting Model Update*>,\n",
       " 2: <gurobi.Constr *Awaiting Model Update*>}"
      ]
     },
     "execution_count": 9,
     "metadata": {},
     "output_type": "execute_result"
    }
   ],
   "source": [
    "# Maximum route duration for each vehicle\n",
    "model.addConstrs((gp.quicksum(t_ij[i, j] * x[i, j, k] for i in V for j in V if i != j) <= t_max for k in K), name=\"max_duration\")"
   ]
  },
  {
   "cell_type": "markdown",
   "metadata": {},
   "source": [
    "Service time constraints:"
   ]
  },
  {
   "cell_type": "markdown",
   "metadata": {},
   "source": [
    "$\\begin{align}t_i + s_i + t_{ij} \\leq t_j + M(1-x^k_{ij}) \\ \\ \\ \\ \\forall k \\in K, \\ \\forall (i, j) \\in A , \\ i \\neq j \\end{align}$"
   ]
  },
  {
   "cell_type": "markdown",
   "metadata": {},
   "source": [
    "where M is a large constant"
   ]
  },
  {
   "cell_type": "code",
   "execution_count": 10,
   "metadata": {},
   "outputs": [
    {
     "data": {
      "text/plain": [
       "{(1, 0, 1): <gurobi.Constr *Awaiting Model Update*>,\n",
       " (1, 0, 2): <gurobi.Constr *Awaiting Model Update*>,\n",
       " (1, 1, 0): <gurobi.Constr *Awaiting Model Update*>,\n",
       " (1, 1, 2): <gurobi.Constr *Awaiting Model Update*>,\n",
       " (1, 2, 0): <gurobi.Constr *Awaiting Model Update*>,\n",
       " (1, 2, 1): <gurobi.Constr *Awaiting Model Update*>,\n",
       " (2, 0, 1): <gurobi.Constr *Awaiting Model Update*>,\n",
       " (2, 0, 2): <gurobi.Constr *Awaiting Model Update*>,\n",
       " (2, 1, 0): <gurobi.Constr *Awaiting Model Update*>,\n",
       " (2, 1, 2): <gurobi.Constr *Awaiting Model Update*>,\n",
       " (2, 2, 0): <gurobi.Constr *Awaiting Model Update*>,\n",
       " (2, 2, 1): <gurobi.Constr *Awaiting Model Update*>}"
      ]
     },
     "execution_count": 10,
     "metadata": {},
     "output_type": "execute_result"
    }
   ],
   "source": [
    "# Service time constraints\n",
    "M = 1e6  # Large constant\n",
    "model.addConstrs(( t[i] + s_c[i] + t_ij[i, j]  <= t[j] + M * (1 - x[i, j, k]) for k in K for i in V for j in V if i != j), name=\"service_time\")"
   ]
  },
  {
   "cell_type": "markdown",
   "metadata": {},
   "source": [
    "Depot constraints"
   ]
  },
  {
   "cell_type": "markdown",
   "metadata": {},
   "source": [
    "$\\begin{align}\\sum_{j \\in V}x^k_{0j} &= y_k \\ \\ \\ \\ \\forall k \\in K \\\\\n",
    "    \\sum_{i \\in V}x^k_{i0} &= y_k \\ \\ \\ \\ \\forall k \\in K\n",
    "\\end{align} $"
   ]
  },
  {
   "cell_type": "code",
   "execution_count": 11,
   "metadata": {},
   "outputs": [
    {
     "data": {
      "text/plain": [
       "{1: <gurobi.Constr *Awaiting Model Update*>,\n",
       " 2: <gurobi.Constr *Awaiting Model Update*>}"
      ]
     },
     "execution_count": 11,
     "metadata": {},
     "output_type": "execute_result"
    }
   ],
   "source": [
    "# Depot constraints\n",
    "model.addConstrs((gp.quicksum(x[0, j, k] for j in C) == y[k] for k in K), name=\"depot_start\")\n",
    "model.addConstrs((gp.quicksum(x[j, 0, k] for j in C) == y[k] for k in K), name=\"depot_end\")"
   ]
  },
  {
   "cell_type": "markdown",
   "metadata": {},
   "source": [
    "#### Solution"
   ]
  },
  {
   "cell_type": "code",
   "execution_count": 12,
   "metadata": {},
   "outputs": [
    {
     "name": "stdout",
     "output_type": "stream",
     "text": [
      "Gurobi Optimizer version 11.0.3 build v11.0.3rc0 (mac64[arm] - Darwin 23.5.0 23F79)\n",
      "\n",
      "CPU model: Apple M1\n",
      "Thread count: 8 physical cores, 8 logical processors, using up to 8 threads\n",
      "\n",
      "Optimize a model with 28 rows, 23 columns and 100 nonzeros\n",
      "Model fingerprint: 0x244831c7\n",
      "Variable types: 3 continuous, 20 integer (20 binary)\n",
      "Coefficient statistics:\n",
      "  Matrix range     [1e+00, 1e+06]\n",
      "  Objective range  [1e+00, 1e+00]\n",
      "  Bounds range     [1e+00, 1e+00]\n",
      "  RHS range        [1e+00, 1e+06]\n",
      "Presolve removed 2 rows and 6 columns\n",
      "Presolve time: 0.00s\n",
      "Presolved: 26 rows, 17 columns, 92 nonzeros\n",
      "Variable types: 3 continuous, 14 integer (14 binary)\n",
      "\n",
      "Root relaxation: objective 2.000000e+00, 7 iterations, 0.00 seconds (0.00 work units)\n",
      "\n",
      "    Nodes    |    Current Node    |     Objective Bounds      |     Work\n",
      " Expl Unexpl |  Obj  Depth IntInf | Incumbent    BestBd   Gap | It/Node Time\n",
      "\n",
      "     0     0    2.00000    0    4          -    2.00000      -     -    0s\n",
      "     0     0    3.00000    0    8          -    3.00000      -     -    0s\n",
      "\n",
      "Cutting planes:\n",
      "  Learned: 1\n",
      "  Implied bound: 2\n",
      "  Clique: 2\n",
      "\n",
      "Explored 1 nodes (16 simplex iterations) in 0.02 seconds (0.00 work units)\n",
      "Thread count was 8 (of 8 available processors)\n",
      "\n",
      "Solution count 0\n",
      "\n",
      "Model is infeasible\n",
      "Best objective -, best bound -, gap -\n",
      "No optimal solution found\n",
      "{0: <gurobi.Var t[0]>, 1: <gurobi.Var t[1]>, 2: <gurobi.Var t[2]>}\n"
     ]
    }
   ],
   "source": [
    "model.optimize()\n",
    "\n",
    "# Display results\n",
    "if model.status == GRB.OPTIMAL:\n",
    "    solution = model.getAttr('x', x)\n",
    "    for k in K:\n",
    "        print(f\"Vehicle {k}:\")\n",
    "        route = [0]\n",
    "        while route[-1] != 0 or len(route) == 1:\n",
    "            i = route[-1]\n",
    "            used = False\n",
    "            for j in V:\n",
    "                if i != j and solution[i, j, k] > 0.5:\n",
    "                    used = True\n",
    "                    route.append(j)\n",
    "                    break\n",
    "            if not used:\n",
    "                used = False\n",
    "                break\n",
    "        print(\" -> \".join(map(str, route)))\n",
    "else:\n",
    "    print(\"No optimal solution found\")\n",
    "print(t)"
   ]
  }
 ],
 "metadata": {
  "kernelspec": {
   "display_name": "Python 3",
   "language": "python",
   "name": "python3"
  },
  "language_info": {
   "codemirror_mode": {
    "name": "ipython",
    "version": 3
   },
   "file_extension": ".py",
   "mimetype": "text/x-python",
   "name": "python",
   "nbconvert_exporter": "python",
   "pygments_lexer": "ipython3",
   "version": "3.12.4"
  }
 },
 "nbformat": 4,
 "nbformat_minor": 2
}
