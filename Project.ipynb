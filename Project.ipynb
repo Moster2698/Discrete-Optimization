{
 "cells": [
  {
   "cell_type": "markdown",
   "metadata": {},
   "source": [
    "# Libraries"
   ]
  },
  {
   "cell_type": "code",
   "execution_count": 229,
   "metadata": {},
   "outputs": [],
   "source": [
    "import math\n",
    "import random\n",
    "import numpy as np\n",
    "import gurobipy as gp\n",
    "from gurobipy import GRB"
   ]
  },
  {
   "cell_type": "markdown",
   "metadata": {},
   "source": [
    "# Module 1 + Module 2\n",
    "By combining *Module 1* and *Module 2* the problem is formally defined as follows:\n",
    "- a depot $0$ where all vehicles are located in the beginning\n",
    "- a set of customers $C = {1,...,N}$, we define locations $L = {0} + C$\n",
    "- a demand $d_i$ for each customer $i \\in C$ (the depot has no demand)\n",
    "- a time window $[a_i, b_i]$ with $0<a_i<b_i$ for each location $i \\in L$ (including the depot)\n",
    "- a service time $s_i$ for each customer $i \\in C$ (the depot has zero service time)\n",
    "- costs $c_{ij}$ and time $t_{ij}$ for travelling from location $i$ to location $j$\n",
    "- a homogeneous fleet $K = {1,...,|K|}$ of vehicles with load capacity $Q$\n",
    "\n",
    "The **objective** is:\n",
    "- to find a route for each vehicle, i.e., an ordered sequence of customers\n",
    "- with minimal total routing time, such that:\n",
    "    - each customer is visited exactly once\n",
    "    - the start times of the services have to be within the depot and customer time windows (potentially introducing waiting times between services),\n",
    "    - and the vehicle capacity is never exceeded"
   ]
  },
  {
   "cell_type": "markdown",
   "metadata": {},
   "source": [
    "## Input Configuration\n",
    "We configurate the input values:"
   ]
  },
  {
   "cell_type": "code",
   "execution_count": 230,
   "metadata": {},
   "outputs": [],
   "source": [
    "numCustomers = 5\n",
    "maxNumVehicles = 2\n",
    "\n",
    "vehicleCapacity = 30\n",
    "demandRange = (2, 5)\n",
    "\n",
    "timeHorizon = 100 # tmax\n",
    "timeWindowWidthRange = (10, 15)\n",
    "serviceTimeRange = (2, 4)"
   ]
  },
  {
   "cell_type": "markdown",
   "metadata": {},
   "source": [
    "## Instance Generation\n",
    "By using the values in the *Input Configuration*, we generate the instances of the problem:"
   ]
  },
  {
   "cell_type": "code",
   "execution_count": 231,
   "metadata": {},
   "outputs": [],
   "source": [
    "random.seed(0)\n",
    "\n",
    "depot = 0\n",
    "customers = [*range(1, numCustomers + 1)] # array of customers\n",
    "locations = [depot] + customers # depot + customers\n",
    "connections = [(i, j) for i in locations for j in locations if i != j] # set of all possible edges\n",
    "vehicles = [*range(1, maxNumVehicles + 1)] # array of vehicles\n",
    "\n",
    "# create random depot and customer locations in the Euclidian plane (1000x1000)\n",
    "points = [(random.randint(0, 999), random.randint(0, 999)) for i in locations]\n",
    "# dictionary of Euclidean distance for each connection (interpreted as travel costs)\n",
    "costs = {\n",
    "    (i, j): math.ceil(\n",
    "        math.sqrt(sum((points[i][k] - points[j][k]) ** 2 for k in range(2)))\n",
    "    )\n",
    "    for (i, j) in connections\n",
    "}\n",
    "maximalCosts = math.ceil(999 * math.sqrt(2))\n",
    "\n",
    "# dictionary of travel times for each connection (related to the costs, scaled to time horizon)\n",
    "travelTimes = {\n",
    "    (i, j): math.ceil((costs[i, j] / maximalCosts) * timeHorizon * 0.2)\n",
    "    for (i, j) in connections\n",
    "}\n",
    "\n",
    "# create random demands\n",
    "demands = {i: random.randint(demandRange[0], demandRange[1]) for i in customers}\n",
    "demands[0] = 0  # depot has no demand\n",
    "\n",
    "# create random service times,\n",
    "serviceTimes = {\n",
    "    i: random.randint(serviceTimeRange[0], serviceTimeRange[1]) for i in customers\n",
    "}\n",
    "serviceTimes[0] = 0  # depot has no service time\n",
    "\n",
    "# create random time windows\n",
    "timeWindowWidths = {\n",
    "    i: random.randint(timeWindowWidthRange[0], timeWindowWidthRange[1])\n",
    "    for i in customers\n",
    "}\n",
    "\n",
    "# vehicles are allowed to leave the depot any time within the time horizon\n",
    "timeWindowWidths[0] = timeHorizon\n",
    "\n",
    "# create time windows randomly based on the previously generated information\n",
    "# such that the service at a customer can be finished within the time horizon\n",
    "timeWindows = {}\n",
    "timeWindows[0] = (0, 0 + timeWindowWidths[0])\n",
    "for i in customers:\n",
    "    start = random.randint(0, timeHorizon - serviceTimes[i] - timeWindowWidths[i] - travelTimes[i,0])\n",
    "    timeWindows[i] = (start, start + timeWindowWidths[i])"
   ]
  },
  {
   "cell_type": "markdown",
   "metadata": {},
   "source": [
    "So now, we can print all these parameters:"
   ]
  },
  {
   "cell_type": "code",
   "execution_count": 232,
   "metadata": {},
   "outputs": [
    {
     "name": "stdout",
     "output_type": "stream",
     "text": [
      "Customer Demands:\n",
      "Customer 1: Demand = 4\n",
      "Customer 2: Demand = 5\n",
      "Customer 3: Demand = 4\n",
      "Customer 4: Demand = 3\n",
      "Customer 5: Demand = 3\n",
      "Customer 0: Demand = 0\n",
      "\n",
      "Customer Service Times:\n",
      "Customer 1: Service Time = 3\n",
      "Customer 2: Service Time = 2\n",
      "Customer 3: Service Time = 2\n",
      "Customer 4: Service Time = 4\n",
      "Customer 5: Service Time = 3\n",
      "Customer 0: Service Time = 0\n",
      "\n",
      "Customer Time Windows:\n",
      "Customer 0: Time Window = (0, 100)\n",
      "Customer 1: Time Window = (12, 26)\n",
      "Customer 2: Time Window = (9, 24)\n",
      "Customer 3: Time Window = (42, 56)\n",
      "Customer 4: Time Window = (60, 71)\n",
      "Customer 5: Time Window = (71, 83)\n",
      "\n",
      "Travel Times:\n",
      "Travel Time from 0 to 1: 8\n",
      "Travel Time from 0 to 2: 8\n",
      "Travel Time from 0 to 3: 12\n",
      "Travel Time from 0 to 4: 6\n",
      "Travel Time from 0 to 5: 11\n",
      "Travel Time from 1 to 0: 8\n",
      "Travel Time from 1 to 2: 14\n",
      "Travel Time from 1 to 3: 8\n",
      "Travel Time from 1 to 4: 7\n",
      "Travel Time from 1 to 5: 6\n",
      "Travel Time from 2 to 0: 8\n",
      "Travel Time from 2 to 1: 14\n",
      "Travel Time from 2 to 3: 14\n",
      "Travel Time from 2 to 4: 7\n",
      "Travel Time from 2 to 5: 13\n",
      "Travel Time from 3 to 0: 12\n",
      "Travel Time from 3 to 1: 8\n",
      "Travel Time from 3 to 2: 14\n",
      "Travel Time from 3 to 4: 8\n",
      "Travel Time from 3 to 5: 3\n",
      "Travel Time from 4 to 0: 6\n",
      "Travel Time from 4 to 1: 7\n",
      "Travel Time from 4 to 2: 7\n",
      "Travel Time from 4 to 3: 8\n",
      "Travel Time from 4 to 5: 7\n",
      "Travel Time from 5 to 0: 11\n",
      "Travel Time from 5 to 1: 6\n",
      "Travel Time from 5 to 2: 13\n",
      "Travel Time from 5 to 3: 3\n",
      "Travel Time from 5 to 4: 7\n"
     ]
    }
   ],
   "source": [
    "print(\"Customer Demands:\")\n",
    "for customer, demand in demands.items():\n",
    "    print(f\"Customer {customer}: Demand = {demand}\")\n",
    "\n",
    "print(\"\\nCustomer Service Times:\")\n",
    "for customer, service_time in serviceTimes.items():\n",
    "    print(f\"Customer {customer}: Service Time = {service_time}\")\n",
    "\n",
    "print(\"\\nCustomer Time Windows:\")\n",
    "for customer, window in timeWindows.items():\n",
    "    print(f\"Customer {customer}: Time Window = {window}\")\n",
    "\n",
    "print(\"\\nTravel Times:\")\n",
    "for (i, j), time in list(travelTimes.items()):\n",
    "    print(f\"Travel Time from {i} to {j}: {time}\")"
   ]
  },
  {
   "cell_type": "markdown",
   "metadata": {},
   "source": [
    "## Model Generation\n",
    "In this section we will see two different mathematical formulations of this problem:\n",
    "- Big - M Model\n",
    "- Flow Model\n",
    "\n",
    "In particular, the two models just mentioned share the same basic model (Vehicle Routing Problem), but differ with regard to capacity and time constraints."
   ]
  },
  {
   "cell_type": "markdown",
   "metadata": {},
   "source": [
    "### Big - M Model\n",
    "**Decision Variables**:\n",
    "- $x_{ij} = \n",
    "\\begin{cases} \n",
    "1 & \\text{if a vehicle traverses arc (i, j)} \\\\\n",
    "0 & \\text{otherwise}\n",
    "\\end{cases}\n",
    "$\n",
    "- $y_i$ for each location $i \\in L$ to denote the **vehicle load after picking up the demand at $i$**.\n",
    "- $z_i$ for each location $i \\in L$ to denote the **start time of the service at $i$** that has to be within its time window"
   ]
  },
  {
   "cell_type": "code",
   "execution_count": 233,
   "metadata": {},
   "outputs": [],
   "source": [
    "model_M = gp.Model(\"VRPTW\")\n",
    "\n",
    "x = model_M.addVars(connections, vtype=GRB.BINARY, name=\"x\")\n",
    "\n",
    "y = model_M.addVars(locations, lb=0, ub=vehicleCapacity, name=\"y\")\n",
    "y[0].UB = 0\n",
    "\n",
    "z = model_M.addVars(locations, name=\"z\")\n",
    "for i in locations:\n",
    "    z[i].LB = timeWindows[i][0] \n",
    "    z[i].UB = timeWindows[i][1]"
   ]
  },
  {
   "cell_type": "markdown",
   "metadata": {},
   "source": [
    "**Objective Function:**\n",
    "\n",
    "Minimize the total travel time. Travel time doesn't consider the service time of each customer:\n",
    "$$\n",
    "\\text{min} \\sum_{i,j \\in \\mathcal{L}} c_{ij}x_{ij}\n",
    "$$"
   ]
  },
  {
   "cell_type": "code",
   "execution_count": 234,
   "metadata": {},
   "outputs": [],
   "source": [
    "model_M.setObjective(gp.quicksum(travelTimes[i,j]*x[i,j] for i,j in connections), GRB.MINIMIZE)"
   ]
  },
  {
   "cell_type": "markdown",
   "metadata": {},
   "source": [
    "**Constraints:**\n",
    "- Each customer is visited exactly once, i.e., there is exactly one incoming connection and exactly one    outgoing connection:\n",
    "$$\n",
    "\\sum_{j \\in \\mathcal{L}} x_{ij} = 1 \\quad \\forall i \\in \\mathcal{C}\n",
    "$$\n",
    "\n",
    "$$\n",
    "\\sum_{i \\in \\mathcal{L}} x_{ij} = 1 \\quad \\forall j \\in \\mathcal{C}\n",
    "$$"
   ]
  },
  {
   "cell_type": "code",
   "execution_count": 235,
   "metadata": {},
   "outputs": [
    {
     "data": {
      "text/plain": [
       "{1: <gurobi.Constr *Awaiting Model Update*>,\n",
       " 2: <gurobi.Constr *Awaiting Model Update*>,\n",
       " 3: <gurobi.Constr *Awaiting Model Update*>,\n",
       " 4: <gurobi.Constr *Awaiting Model Update*>,\n",
       " 5: <gurobi.Constr *Awaiting Model Update*>}"
      ]
     },
     "execution_count": 235,
     "metadata": {},
     "output_type": "execute_result"
    }
   ],
   "source": [
    "model_M.addConstrs((x.sum(\"*\", j) == 1 for j in customers), name=\"incoming\")\n",
    "model_M.addConstrs((x.sum(i, \"*\") == 1 for i in customers), name=\"outgoing\")"
   ]
  },
  {
   "cell_type": "markdown",
   "metadata": {},
   "source": [
    "- At most $|K|$ vehicles can be used:\n",
    "$$\n",
    "\\sum_{j \\in \\mathcal{C}} x_{0j} \\leq |K|\n",
    "$$"
   ]
  },
  {
   "cell_type": "code",
   "execution_count": 236,
   "metadata": {},
   "outputs": [
    {
     "data": {
      "text/plain": [
       "<gurobi.Constr *Awaiting Model Update*>"
      ]
     },
     "execution_count": 236,
     "metadata": {},
     "output_type": "execute_result"
    }
   ],
   "source": [
    "model_M.addConstr(x.sum(0, \"*\") <= maxNumVehicles, name=\"maxNumVehicles\")"
   ]
  },
  {
   "cell_type": "markdown",
   "metadata": {},
   "source": [
    "- We can also compute a lower bound on the number of needed vehicles, that is the sum of all demands divided by the vehicle capacity:\n",
    "$$\n",
    "\\sum_{j \\in \\mathcal{C}} x_{0j} \\geq \\left\\lceil \\frac{\\sum_{i \\in \\mathcal{C}} d_i}{Q} \\right\\rceil\n",
    "$$"
   ]
  },
  {
   "cell_type": "code",
   "execution_count": 237,
   "metadata": {},
   "outputs": [
    {
     "data": {
      "text/plain": [
       "<gurobi.Constr *Awaiting Model Update*>"
      ]
     },
     "execution_count": 237,
     "metadata": {},
     "output_type": "execute_result"
    }
   ],
   "source": [
    "def numVehiclesNeededForCustomers(customers):\n",
    "    sumDemand = 0\n",
    "    for i in customers:\n",
    "        sumDemand += demands[i]\n",
    "    return math.ceil(sumDemand / vehicleCapacity)\n",
    "\n",
    "model_M.addConstr(\n",
    "    x.sum(0, \"*\") >= numVehiclesNeededForCustomers(customers),\n",
    "    name=\"minNumVehicles\",\n",
    ")"
   ]
  },
  {
   "cell_type": "markdown",
   "metadata": {},
   "source": [
    "- The current capacity of the vehicle must not exceed the maximum capacity of the vehicle:\n",
    "    $$y_i + d_j \\le y_j + Q(1 - x_{ij}) \\quad \\forall i \\in L, j \\in C, i \\neq j$$\n",
    "    In particular:\n",
    "    - if $x_{ij} = 1$: the vehicle travels from $i$ to $j$. So, $y_j$ must be equal or greater than $y_i + d_j$\n",
    "    - if $x_{ij} = 0$: it ensures that vehicle capacity si not exceed."
   ]
  },
  {
   "cell_type": "code",
   "execution_count": 238,
   "metadata": {},
   "outputs": [
    {
     "data": {
      "text/plain": [
       "{(0, 1): <gurobi.Constr *Awaiting Model Update*>,\n",
       " (0, 2): <gurobi.Constr *Awaiting Model Update*>,\n",
       " (0, 3): <gurobi.Constr *Awaiting Model Update*>,\n",
       " (0, 4): <gurobi.Constr *Awaiting Model Update*>,\n",
       " (0, 5): <gurobi.Constr *Awaiting Model Update*>,\n",
       " (1, 2): <gurobi.Constr *Awaiting Model Update*>,\n",
       " (1, 3): <gurobi.Constr *Awaiting Model Update*>,\n",
       " (1, 4): <gurobi.Constr *Awaiting Model Update*>,\n",
       " (1, 5): <gurobi.Constr *Awaiting Model Update*>,\n",
       " (2, 1): <gurobi.Constr *Awaiting Model Update*>,\n",
       " (2, 3): <gurobi.Constr *Awaiting Model Update*>,\n",
       " (2, 4): <gurobi.Constr *Awaiting Model Update*>,\n",
       " (2, 5): <gurobi.Constr *Awaiting Model Update*>,\n",
       " (3, 1): <gurobi.Constr *Awaiting Model Update*>,\n",
       " (3, 2): <gurobi.Constr *Awaiting Model Update*>,\n",
       " (3, 4): <gurobi.Constr *Awaiting Model Update*>,\n",
       " (3, 5): <gurobi.Constr *Awaiting Model Update*>,\n",
       " (4, 1): <gurobi.Constr *Awaiting Model Update*>,\n",
       " (4, 2): <gurobi.Constr *Awaiting Model Update*>,\n",
       " (4, 3): <gurobi.Constr *Awaiting Model Update*>,\n",
       " (4, 5): <gurobi.Constr *Awaiting Model Update*>,\n",
       " (5, 1): <gurobi.Constr *Awaiting Model Update*>,\n",
       " (5, 2): <gurobi.Constr *Awaiting Model Update*>,\n",
       " (5, 3): <gurobi.Constr *Awaiting Model Update*>,\n",
       " (5, 4): <gurobi.Constr *Awaiting Model Update*>}"
      ]
     },
     "execution_count": 238,
     "metadata": {},
     "output_type": "execute_result"
    }
   ],
   "source": [
    "model_M.addConstrs(\n",
    "    (\n",
    "        y[i] + demands[j] <= y[j] + vehicleCapacity * (1 - x[i, j])\n",
    "        for i in locations\n",
    "        for j in customers\n",
    "        if i != j\n",
    "    ),\n",
    "    name=\"loadBigM1\",\n",
    ")"
   ]
  },
  {
   "cell_type": "markdown",
   "metadata": {},
   "source": [
    "- This constraint ensures that, if arc $(i, j)$ is travelled then the load at node $j$ must be greater or equal to $y_i + d_j$:\n",
    "    $$y_i + d_j \\geq y_j - M_{ij}(1 - x_{ij}) \\quad \\forall i \\in L, j \\in C, i \\neq j$$\n",
    "    In particular, if the arc $(i, j)$ is not travelled then the inequality becomes non-binding since $M$ is a big constant"
   ]
  },
  {
   "cell_type": "code",
   "execution_count": 239,
   "metadata": {},
   "outputs": [
    {
     "data": {
      "text/plain": [
       "{(0, 1): <gurobi.Constr *Awaiting Model Update*>,\n",
       " (0, 2): <gurobi.Constr *Awaiting Model Update*>,\n",
       " (0, 3): <gurobi.Constr *Awaiting Model Update*>,\n",
       " (0, 4): <gurobi.Constr *Awaiting Model Update*>,\n",
       " (0, 5): <gurobi.Constr *Awaiting Model Update*>,\n",
       " (1, 2): <gurobi.Constr *Awaiting Model Update*>,\n",
       " (1, 3): <gurobi.Constr *Awaiting Model Update*>,\n",
       " (1, 4): <gurobi.Constr *Awaiting Model Update*>,\n",
       " (1, 5): <gurobi.Constr *Awaiting Model Update*>,\n",
       " (2, 1): <gurobi.Constr *Awaiting Model Update*>,\n",
       " (2, 3): <gurobi.Constr *Awaiting Model Update*>,\n",
       " (2, 4): <gurobi.Constr *Awaiting Model Update*>,\n",
       " (2, 5): <gurobi.Constr *Awaiting Model Update*>,\n",
       " (3, 1): <gurobi.Constr *Awaiting Model Update*>,\n",
       " (3, 2): <gurobi.Constr *Awaiting Model Update*>,\n",
       " (3, 4): <gurobi.Constr *Awaiting Model Update*>,\n",
       " (3, 5): <gurobi.Constr *Awaiting Model Update*>,\n",
       " (4, 1): <gurobi.Constr *Awaiting Model Update*>,\n",
       " (4, 2): <gurobi.Constr *Awaiting Model Update*>,\n",
       " (4, 3): <gurobi.Constr *Awaiting Model Update*>,\n",
       " (4, 5): <gurobi.Constr *Awaiting Model Update*>,\n",
       " (5, 1): <gurobi.Constr *Awaiting Model Update*>,\n",
       " (5, 2): <gurobi.Constr *Awaiting Model Update*>,\n",
       " (5, 3): <gurobi.Constr *Awaiting Model Update*>,\n",
       " (5, 4): <gurobi.Constr *Awaiting Model Update*>}"
      ]
     },
     "execution_count": 239,
     "metadata": {},
     "output_type": "execute_result"
    }
   ],
   "source": [
    "model_M.addConstrs(\n",
    "    (\n",
    "        y[i] + demands[j]\n",
    "        >= y[j] - (vehicleCapacity - demands[i] - demands[j]) * (1 - x[i, j])\n",
    "        for i in locations\n",
    "        for j in customers\n",
    "        if i != j\n",
    "    ),\n",
    "    name=\"loadBigM2\",\n",
    ")"
   ]
  },
  {
   "cell_type": "markdown",
   "metadata": {},
   "source": [
    "- This constraint manages the time required to pass from a node $i$ to a node $j$, taking into account the service time at node $i$ ($s(i)$) and the travel time between $i$ and $j$ ($t_{ij}$):\n",
    "    $$z_i + s_i + t_{ij} \\leq z_j + T(1 - x_{ij}) \\quad \\forall i \\in L, j \\in C, i \\neq j$$\n",
    "    In particular, if the arc $(i, j)$ is not travelled, then $x_{ij} = 0$ and the constraint is not activated because of the big term $T$."
   ]
  },
  {
   "cell_type": "code",
   "execution_count": 240,
   "metadata": {},
   "outputs": [
    {
     "data": {
      "text/plain": [
       "{(0, 1): <gurobi.Constr *Awaiting Model Update*>,\n",
       " (0, 2): <gurobi.Constr *Awaiting Model Update*>,\n",
       " (0, 3): <gurobi.Constr *Awaiting Model Update*>,\n",
       " (0, 4): <gurobi.Constr *Awaiting Model Update*>,\n",
       " (0, 5): <gurobi.Constr *Awaiting Model Update*>,\n",
       " (1, 2): <gurobi.Constr *Awaiting Model Update*>,\n",
       " (1, 3): <gurobi.Constr *Awaiting Model Update*>,\n",
       " (1, 4): <gurobi.Constr *Awaiting Model Update*>,\n",
       " (1, 5): <gurobi.Constr *Awaiting Model Update*>,\n",
       " (2, 1): <gurobi.Constr *Awaiting Model Update*>,\n",
       " (2, 3): <gurobi.Constr *Awaiting Model Update*>,\n",
       " (2, 4): <gurobi.Constr *Awaiting Model Update*>,\n",
       " (2, 5): <gurobi.Constr *Awaiting Model Update*>,\n",
       " (3, 1): <gurobi.Constr *Awaiting Model Update*>,\n",
       " (3, 2): <gurobi.Constr *Awaiting Model Update*>,\n",
       " (3, 4): <gurobi.Constr *Awaiting Model Update*>,\n",
       " (3, 5): <gurobi.Constr *Awaiting Model Update*>,\n",
       " (4, 1): <gurobi.Constr *Awaiting Model Update*>,\n",
       " (4, 2): <gurobi.Constr *Awaiting Model Update*>,\n",
       " (4, 3): <gurobi.Constr *Awaiting Model Update*>,\n",
       " (4, 5): <gurobi.Constr *Awaiting Model Update*>,\n",
       " (5, 1): <gurobi.Constr *Awaiting Model Update*>,\n",
       " (5, 2): <gurobi.Constr *Awaiting Model Update*>,\n",
       " (5, 3): <gurobi.Constr *Awaiting Model Update*>,\n",
       " (5, 4): <gurobi.Constr *Awaiting Model Update*>}"
      ]
     },
     "execution_count": 240,
     "metadata": {},
     "output_type": "execute_result"
    }
   ],
   "source": [
    "model_M.addConstrs(\n",
    "        (\n",
    "            z[i] + serviceTimes[i] + travelTimes[i, j]\n",
    "            <= z[j]\n",
    "            + (\n",
    "                timeWindows[i][1]\n",
    "                + serviceTimes[i]\n",
    "                + travelTimes[i, j]\n",
    "                - timeWindows[j][0]\n",
    "            )\n",
    "            * (1 - x[i, j])\n",
    "            for i in locations\n",
    "            for j in customers\n",
    "            if i != j\n",
    "        ),\n",
    "        name=\"timeBigM\",\n",
    "    )"
   ]
  },
  {
   "cell_type": "markdown",
   "metadata": {},
   "source": [
    "So, we can now optimize the model and plot the solution:"
   ]
  },
  {
   "cell_type": "code",
   "execution_count": 241,
   "metadata": {},
   "outputs": [
    {
     "name": "stdout",
     "output_type": "stream",
     "text": [
      "Objective Value:  51.0\n",
      "Solution contains 2 routes:\n",
      "Route 0: 0 -> 1 (L:0) -> 3 (L:4) -> 5 (L:8) -> 0 (L:11/30)\n",
      "Route 1: 0 -> 2 (L:0) -> 4 (L:5) -> 0 (L:8/30)\n",
      "Unvisited customers: \n",
      "Client 1: service start time = 26.0, time window = (12, 26)\n",
      "Client 2: service start time = 9.0, time window = (9, 24)\n",
      "Client 3: service start time = 42.0, time window = (42, 56)\n",
      "Client 4: service start time = 60.0, time window = (60, 71)\n",
      "Client 5: service start time = 83.0, time window = (71, 83)\n"
     ]
    }
   ],
   "source": [
    "model_M.Params.OutputFlag = 0\n",
    "\n",
    "model_M.optimize()\n",
    "\n",
    "if model_M.SolCount >= 1:\n",
    "\n",
    "    print(\"Objective Value: \", model_M.objVal)\n",
    "\n",
    "    usedConnections = [(i, j) for (i, j) in x.keys() if x[i, j].X > 0.5]\n",
    "\n",
    "    # create a dict for the next customer based on the current one\n",
    "    # (note that the depot in general has multiple outgoing connections)\n",
    "    nextCustomer = {}\n",
    "    for (i, j) in usedConnections:\n",
    "        if i == 0:\n",
    "            if 0 not in nextCustomer.keys():\n",
    "                nextCustomer[0] = []\n",
    "            nextCustomer[0].append(j)\n",
    "        else:\n",
    "            nextCustomer[i] = j\n",
    "\n",
    "    print(f\"Solution contains {len(nextCustomer[0])} routes:\")\n",
    "    routeNumber = 0\n",
    "    visitedCustomers = [False] * (numCustomers + 1)\n",
    "    for firstCustomer in nextCustomer[0]:\n",
    "        print(f\"Route {routeNumber}: 0 -> \", end=\"\")\n",
    "        vehicleLoad = 0\n",
    "        #time = travelTimes[0, firstCustomer]\n",
    "        #violatedTimeWindows = False\n",
    "        currentCustomer = firstCustomer\n",
    "        while currentCustomer != 0:\n",
    "            print(f\"{currentCustomer} (L:{vehicleLoad}) -> \", end=\"\")\n",
    "            visitedCustomers[currentCustomer] = True\n",
    "            vehicleLoad += demands[currentCustomer]\n",
    "            #time = max(time, timeWindows[currentCustomer][0])\n",
    "            #if time > timeWindows[currentCustomer][1]:\n",
    "                #violatedTimeWindows = True\n",
    "            #time += (\n",
    "                #serviceTimes[currentCustomer]\n",
    "                #+ travelTimes[currentCustomer, nextCustomer[currentCustomer]]\n",
    "            #)\n",
    "            currentCustomer = nextCustomer[currentCustomer]\n",
    "        print(f\"0 (L:{vehicleLoad}/{vehicleCapacity})\")\n",
    "        if vehicleLoad > vehicleCapacity:\n",
    "            print(\"Vehicle capacity is exceeded!\")\n",
    "        #if violatedTimeWindows:\n",
    "            #print(\"Time windows are violated!\")\n",
    "        routeNumber += 1\n",
    "\n",
    "    print(\"Unvisited customers: \", end=\"\")\n",
    "    for c in customers:\n",
    "        if visitedCustomers[c] == False:\n",
    "            print(f\"{c}, \", end=\"\")\n",
    "    print()\n",
    "    for c in customers: \n",
    "        print(f\"Client {c}: service start time = {model_M.getAttr('x', z)[c]}, time window = {timeWindows[c]}\")"
   ]
  },
  {
   "cell_type": "markdown",
   "metadata": {},
   "source": [
    "### Flow Model\n",
    "Now, we extend the meaning of the variables used in the Big-M model. We do not associate resource states to customers anymore but instead to connections between customers.\n",
    "\n",
    "**Decision Variables:**\n",
    "- $x_{ij} = \n",
    "\\begin{cases} \n",
    "1 & \\text{if a vehicle traverses arc (i, j)} \\\\\n",
    "0 & \\text{otherwise}\n",
    "\\end{cases}\n",
    "$\n",
    "- $y_{ij}$ for each connection $(i, j)$ to denote the vehicle load after picking up the demand at $i$ and proceeding to location $j$.\n",
    "- $z_{ij}$ for each connection $(i, j)$ to denote the start time of the service at $i$ (which must be within its time window) when immediately proceeding to location $j$.\n",
    "\n"
   ]
  },
  {
   "cell_type": "code",
   "execution_count": 242,
   "metadata": {},
   "outputs": [],
   "source": [
    "model_flow = gp.Model(\"VRPTW\")\n",
    "\n",
    "x = model_flow.addVars(connections, vtype=GRB.BINARY, name=\"x\")\n",
    "\n",
    "y = model_flow.addVars(connections, lb=0, ub=vehicleCapacity, name=\"y\")\n",
    "\n",
    "for i in customers:\n",
    "    y[0, i].UB = 0\n",
    "\n",
    "z = model_flow.addVars(connections, lb=0, name=\"z\")\n",
    "\n",
    "for (i, j) in connections:\n",
    "    z[i, j].UB = timeWindows[i][1]"
   ]
  },
  {
   "cell_type": "markdown",
   "metadata": {},
   "source": [
    "**Objective Function:**\n",
    "\n",
    "Minimize the total travel time. Travel time doesn't consider the service time of each customer:\n",
    "$$\n",
    "\\text{min} \\sum_{i,j \\in \\mathcal{L}} c_{ij}x_{ij}\n",
    "$$"
   ]
  },
  {
   "cell_type": "code",
   "execution_count": 243,
   "metadata": {},
   "outputs": [],
   "source": [
    "model_flow.setObjective(gp.quicksum(travelTimes[i,j]*x[i,j] for i,j in connections), GRB.MINIMIZE)"
   ]
  },
  {
   "cell_type": "markdown",
   "metadata": {},
   "source": [
    "**Constraints:**\n",
    "\n",
    "As stated above, the two models only differ in terms of capacity and time constraints. Consequently, the constraints imposed on the basic model (VRP), i.e. on the decision variable x remain unchanged."
   ]
  },
  {
   "cell_type": "code",
   "execution_count": 244,
   "metadata": {},
   "outputs": [
    {
     "data": {
      "text/plain": [
       "<gurobi.Constr *Awaiting Model Update*>"
      ]
     },
     "execution_count": 244,
     "metadata": {},
     "output_type": "execute_result"
    }
   ],
   "source": [
    "model_flow.addConstrs((x.sum(\"*\", j) == 1 for j in customers), name=\"incoming\")\n",
    "model_flow.addConstrs((x.sum(i, \"*\") == 1 for i in customers), name=\"outgoing\")\n",
    "\n",
    "model_flow.addConstr(x.sum(0, \"*\") <= maxNumVehicles, name=\"maxNumVehicles\")\n",
    "\n",
    "model_flow.addConstr(\n",
    "    x.sum(0, \"*\") >= numVehiclesNeededForCustomers(customers),\n",
    "    name=\"minNumVehicles\",\n",
    ")"
   ]
  },
  {
   "cell_type": "markdown",
   "metadata": {},
   "source": [
    "- This constraint ensures that the load of the vehicle arriving at node $j$ plus the satisfied demand $d_j$ is equal to the load leaving node $j$. In other words, when the vehicle satisfies customer demand $j$, the load decreases by the amount $d_j$ and continues with the remaining load.\n",
    "    $$\\sum_{i \\in L} y_{ij} + d_j = \\sum_{i \\in L} y_{ji} \\quad \\forall j \\in C$$"
   ]
  },
  {
   "cell_type": "code",
   "execution_count": 245,
   "metadata": {},
   "outputs": [
    {
     "data": {
      "text/plain": [
       "{1: <gurobi.Constr *Awaiting Model Update*>,\n",
       " 2: <gurobi.Constr *Awaiting Model Update*>,\n",
       " 3: <gurobi.Constr *Awaiting Model Update*>,\n",
       " 4: <gurobi.Constr *Awaiting Model Update*>,\n",
       " 5: <gurobi.Constr *Awaiting Model Update*>}"
      ]
     },
     "execution_count": 245,
     "metadata": {},
     "output_type": "execute_result"
    }
   ],
   "source": [
    "model_flow.addConstrs(\n",
    "    (y.sum(\"*\", j) + demands[j] == y.sum(j, \"*\") for j in customers),\n",
    "    name=\"flowConservation\",\n",
    ")"
   ]
  },
  {
   "cell_type": "markdown",
   "metadata": {},
   "source": [
    "- This constraint ensures that the vehicle, if it travels from location $i$ to $j$ ($x_{ij} = 1$), carries at least the load demanded by $i$. Thus, if the vehicle visits $i$ and goes to $j$, it must carry at least $d_i$, which is the demand of node $i$.\n",
    "    $$y_{ij} \\geq d_ix_{ij} \\quad \\forall i \\in C, j \\in L, i \\neq j$$"
   ]
  },
  {
   "cell_type": "code",
   "execution_count": 246,
   "metadata": {},
   "outputs": [
    {
     "data": {
      "text/plain": [
       "{(1, 0): <gurobi.Constr *Awaiting Model Update*>,\n",
       " (1, 2): <gurobi.Constr *Awaiting Model Update*>,\n",
       " (1, 3): <gurobi.Constr *Awaiting Model Update*>,\n",
       " (1, 4): <gurobi.Constr *Awaiting Model Update*>,\n",
       " (1, 5): <gurobi.Constr *Awaiting Model Update*>,\n",
       " (2, 0): <gurobi.Constr *Awaiting Model Update*>,\n",
       " (2, 1): <gurobi.Constr *Awaiting Model Update*>,\n",
       " (2, 3): <gurobi.Constr *Awaiting Model Update*>,\n",
       " (2, 4): <gurobi.Constr *Awaiting Model Update*>,\n",
       " (2, 5): <gurobi.Constr *Awaiting Model Update*>,\n",
       " (3, 0): <gurobi.Constr *Awaiting Model Update*>,\n",
       " (3, 1): <gurobi.Constr *Awaiting Model Update*>,\n",
       " (3, 2): <gurobi.Constr *Awaiting Model Update*>,\n",
       " (3, 4): <gurobi.Constr *Awaiting Model Update*>,\n",
       " (3, 5): <gurobi.Constr *Awaiting Model Update*>,\n",
       " (4, 0): <gurobi.Constr *Awaiting Model Update*>,\n",
       " (4, 1): <gurobi.Constr *Awaiting Model Update*>,\n",
       " (4, 2): <gurobi.Constr *Awaiting Model Update*>,\n",
       " (4, 3): <gurobi.Constr *Awaiting Model Update*>,\n",
       " (4, 5): <gurobi.Constr *Awaiting Model Update*>,\n",
       " (5, 0): <gurobi.Constr *Awaiting Model Update*>,\n",
       " (5, 1): <gurobi.Constr *Awaiting Model Update*>,\n",
       " (5, 2): <gurobi.Constr *Awaiting Model Update*>,\n",
       " (5, 3): <gurobi.Constr *Awaiting Model Update*>,\n",
       " (5, 4): <gurobi.Constr *Awaiting Model Update*>}"
      ]
     },
     "execution_count": 246,
     "metadata": {},
     "output_type": "execute_result"
    }
   ],
   "source": [
    "model_flow.addConstrs(\n",
    "    (\n",
    "        y[i, j] >= demands[i] * x[i, j]\n",
    "        for i in customers\n",
    "        for j in locations\n",
    "        if i != j\n",
    "    ),\n",
    "    name=\"loadLowerBound\",\n",
    ")"
   ]
  },
  {
   "cell_type": "markdown",
   "metadata": {},
   "source": [
    "- This constraint limits the maximum load a vehicle can carry over an arc $(i,j)$. The vehicle cannot carry more than $Q - d_j$, where $Q$ is the maximum capacity of the vehicle and $d_j$ is the demand of customer $j$. If the vehicle travels the arc $(i,j)$, then $y_{ij}$ must be less than or equal to the maximum allowed load.\n",
    "    $$y_{ij} \\leq (Q - d_j)x_{ij} \\quad \\forall i \\in C, j \\in L, i \\neq j$$"
   ]
  },
  {
   "cell_type": "code",
   "execution_count": 247,
   "metadata": {},
   "outputs": [
    {
     "data": {
      "text/plain": [
       "{(1, 0): <gurobi.Constr *Awaiting Model Update*>,\n",
       " (1, 2): <gurobi.Constr *Awaiting Model Update*>,\n",
       " (1, 3): <gurobi.Constr *Awaiting Model Update*>,\n",
       " (1, 4): <gurobi.Constr *Awaiting Model Update*>,\n",
       " (1, 5): <gurobi.Constr *Awaiting Model Update*>,\n",
       " (2, 0): <gurobi.Constr *Awaiting Model Update*>,\n",
       " (2, 1): <gurobi.Constr *Awaiting Model Update*>,\n",
       " (2, 3): <gurobi.Constr *Awaiting Model Update*>,\n",
       " (2, 4): <gurobi.Constr *Awaiting Model Update*>,\n",
       " (2, 5): <gurobi.Constr *Awaiting Model Update*>,\n",
       " (3, 0): <gurobi.Constr *Awaiting Model Update*>,\n",
       " (3, 1): <gurobi.Constr *Awaiting Model Update*>,\n",
       " (3, 2): <gurobi.Constr *Awaiting Model Update*>,\n",
       " (3, 4): <gurobi.Constr *Awaiting Model Update*>,\n",
       " (3, 5): <gurobi.Constr *Awaiting Model Update*>,\n",
       " (4, 0): <gurobi.Constr *Awaiting Model Update*>,\n",
       " (4, 1): <gurobi.Constr *Awaiting Model Update*>,\n",
       " (4, 2): <gurobi.Constr *Awaiting Model Update*>,\n",
       " (4, 3): <gurobi.Constr *Awaiting Model Update*>,\n",
       " (4, 5): <gurobi.Constr *Awaiting Model Update*>,\n",
       " (5, 0): <gurobi.Constr *Awaiting Model Update*>,\n",
       " (5, 1): <gurobi.Constr *Awaiting Model Update*>,\n",
       " (5, 2): <gurobi.Constr *Awaiting Model Update*>,\n",
       " (5, 3): <gurobi.Constr *Awaiting Model Update*>,\n",
       " (5, 4): <gurobi.Constr *Awaiting Model Update*>}"
      ]
     },
     "execution_count": 247,
     "metadata": {},
     "output_type": "execute_result"
    }
   ],
   "source": [
    "model_flow.addConstrs(\n",
    "    (\n",
    "        y[i, j] <= (vehicleCapacity - demands[j]) * x[i, j]\n",
    "        for i in customers\n",
    "        for j in locations\n",
    "        if i != j\n",
    "    ),\n",
    "    name=\"loadUpperBound\",\n",
    ")"
   ]
  },
  {
   "cell_type": "markdown",
   "metadata": {},
   "source": [
    "- If the vehicle travels from location $i$ to $j$, the service start time at $j$ must be at least the service start time at $i$, plus the service time $s_i$ to $i$ and the travel time between $i$ and $j$. This constraint keeps track of the time evolution along the vehicle's route.\n",
    "    $$\\sum_{i \\in L}[z_{ij} + (s_i + t_{ij})x_{ij}] \\leq \\sum_{i \\in L} z_{ji} \\quad \\forall j \\in C$$"
   ]
  },
  {
   "cell_type": "code",
   "execution_count": 248,
   "metadata": {},
   "outputs": [
    {
     "data": {
      "text/plain": [
       "{1: <gurobi.Constr *Awaiting Model Update*>,\n",
       " 2: <gurobi.Constr *Awaiting Model Update*>,\n",
       " 3: <gurobi.Constr *Awaiting Model Update*>,\n",
       " 4: <gurobi.Constr *Awaiting Model Update*>,\n",
       " 5: <gurobi.Constr *Awaiting Model Update*>}"
      ]
     },
     "execution_count": 248,
     "metadata": {},
     "output_type": "execute_result"
    }
   ],
   "source": [
    "model_flow.addConstrs(\n",
    "    (\n",
    "        gp.quicksum(\n",
    "            z[i, j] + (serviceTimes[i] + travelTimes[i, j]) * x[i, j]\n",
    "            for i in locations\n",
    "            if (i, j) in connections\n",
    "        )\n",
    "        <= z.sum(j, \"*\")\n",
    "        for j in customers\n",
    "    ),\n",
    "    name=\"flowConservation\",\n",
    ")"
   ]
  },
  {
   "cell_type": "markdown",
   "metadata": {},
   "source": [
    "- The subsequent constraints impose that the start and end time of the service must be limited by the respective time slot $(a, b)$.\n",
    "    $$z_{ij}\\geq a_ix_{ij} \\quad \\forall i,j \\in L, i \\neq j$$\n",
    "    $$z_{ij}\\leq b_ix_{ij} \\quad \\forall i,j \\in L, i \\neq j$$"
   ]
  },
  {
   "cell_type": "code",
   "execution_count": 249,
   "metadata": {},
   "outputs": [
    {
     "data": {
      "text/plain": [
       "{(1, 0): <gurobi.Constr *Awaiting Model Update*>,\n",
       " (1, 2): <gurobi.Constr *Awaiting Model Update*>,\n",
       " (1, 3): <gurobi.Constr *Awaiting Model Update*>,\n",
       " (1, 4): <gurobi.Constr *Awaiting Model Update*>,\n",
       " (1, 5): <gurobi.Constr *Awaiting Model Update*>,\n",
       " (2, 0): <gurobi.Constr *Awaiting Model Update*>,\n",
       " (2, 1): <gurobi.Constr *Awaiting Model Update*>,\n",
       " (2, 3): <gurobi.Constr *Awaiting Model Update*>,\n",
       " (2, 4): <gurobi.Constr *Awaiting Model Update*>,\n",
       " (2, 5): <gurobi.Constr *Awaiting Model Update*>,\n",
       " (3, 0): <gurobi.Constr *Awaiting Model Update*>,\n",
       " (3, 1): <gurobi.Constr *Awaiting Model Update*>,\n",
       " (3, 2): <gurobi.Constr *Awaiting Model Update*>,\n",
       " (3, 4): <gurobi.Constr *Awaiting Model Update*>,\n",
       " (3, 5): <gurobi.Constr *Awaiting Model Update*>,\n",
       " (4, 0): <gurobi.Constr *Awaiting Model Update*>,\n",
       " (4, 1): <gurobi.Constr *Awaiting Model Update*>,\n",
       " (4, 2): <gurobi.Constr *Awaiting Model Update*>,\n",
       " (4, 3): <gurobi.Constr *Awaiting Model Update*>,\n",
       " (4, 5): <gurobi.Constr *Awaiting Model Update*>,\n",
       " (5, 0): <gurobi.Constr *Awaiting Model Update*>,\n",
       " (5, 1): <gurobi.Constr *Awaiting Model Update*>,\n",
       " (5, 2): <gurobi.Constr *Awaiting Model Update*>,\n",
       " (5, 3): <gurobi.Constr *Awaiting Model Update*>,\n",
       " (5, 4): <gurobi.Constr *Awaiting Model Update*>}"
      ]
     },
     "execution_count": 249,
     "metadata": {},
     "output_type": "execute_result"
    }
   ],
   "source": [
    "model_flow.addConstrs(\n",
    "    (\n",
    "        z[i, j] >= timeWindows[i][0] * x[i, j]\n",
    "        for i in customers\n",
    "        for j in locations\n",
    "        if i != j\n",
    "    ),\n",
    "    name=\"timeWindowStart\",\n",
    ")\n",
    "model_flow.addConstrs(\n",
    "    (\n",
    "        z[i, j] <= timeWindows[i][1] * x[i, j]\n",
    "        for i in customers\n",
    "        for j in locations\n",
    "        if i != j\n",
    "    ),\n",
    "    name=\"timeWindowEnd\",\n",
    ")"
   ]
  },
  {
   "cell_type": "markdown",
   "metadata": {},
   "source": [
    "So, we can now optimize the model and plot the solution:"
   ]
  },
  {
   "cell_type": "code",
   "execution_count": 250,
   "metadata": {},
   "outputs": [
    {
     "name": "stdout",
     "output_type": "stream",
     "text": [
      "Objective Value:  51.0\n",
      "Solution contains 2 routes:\n",
      "Route 0: 0 -> 1 (L:0) -> 3 (L:4) -> 5 (L:8) -> 0 (L:11/30)\n",
      "Route 1: 0 -> 2 (L:0) -> 4 (L:5) -> 0 (L:8/30)\n",
      "Unvisited customers: \n",
      "Client 1: service start time = 12.0, time window = (12, 26)\n",
      "Client 2: service start time = 9.0, time window = (9, 24)\n",
      "Client 3: service start time = 42.0, time window = (42, 56)\n",
      "Client 4: service start time = 71.0, time window = (60, 71)\n",
      "Client 5: service start time = 83.0, time window = (71, 83)\n"
     ]
    }
   ],
   "source": [
    "model_flow.Params.OutputFlag = 0\n",
    "\n",
    "model_flow.optimize()\n",
    "\n",
    "if model_flow.SolCount >= 1:\n",
    "\n",
    "    print(\"Objective Value: \", model_flow.objVal)\n",
    "\n",
    "    usedConnections = [(i, j) for (i, j) in x.keys() if x[i, j].X > 0.5]\n",
    "\n",
    "    # create a dict for the next customer based on the current one\n",
    "    # (note that the depot in general has multiple outgoing connections)\n",
    "    nextCustomer = {}\n",
    "    for (i, j) in usedConnections:\n",
    "        if i == 0:\n",
    "            if 0 not in nextCustomer.keys():\n",
    "                nextCustomer[0] = []\n",
    "            nextCustomer[0].append(j)\n",
    "        else:\n",
    "            nextCustomer[i] = j\n",
    "\n",
    "    print(f\"Solution contains {len(nextCustomer[0])} routes:\")\n",
    "    routeNumber = 0\n",
    "    visitedCustomers = [False] * (numCustomers + 1)\n",
    "    for firstCustomer in nextCustomer[0]:\n",
    "        print(f\"Route {routeNumber}: 0 -> \", end=\"\")\n",
    "        vehicleLoad = 0\n",
    "        #time = travelTimes[0, firstCustomer]\n",
    "        #violatedTimeWindows = False\n",
    "        currentCustomer = firstCustomer\n",
    "        while currentCustomer != 0:\n",
    "            print(f\"{currentCustomer} (L:{vehicleLoad}) -> \", end=\"\")\n",
    "            visitedCustomers[currentCustomer] = True\n",
    "            vehicleLoad += demands[currentCustomer]\n",
    "            #time = max(time, timeWindows[currentCustomer][0])\n",
    "            #if time > timeWindows[currentCustomer][1]:\n",
    "                #violatedTimeWindows = True\n",
    "            #time += (\n",
    "                #serviceTimes[currentCustomer]\n",
    "                #+ travelTimes[currentCustomer, nextCustomer[currentCustomer]]\n",
    "            #)\n",
    "            currentCustomer = nextCustomer[currentCustomer]\n",
    "        print(f\"0 (L:{vehicleLoad}/{vehicleCapacity})\")\n",
    "        if vehicleLoad > vehicleCapacity:\n",
    "            print(\"Vehicle capacity is exceeded!\")\n",
    "        #if violatedTimeWindows:\n",
    "            #print(\"Time windows are violated!\")\n",
    "        routeNumber += 1\n",
    "\n",
    "    print(\"Unvisited customers: \", end=\"\")\n",
    "    for c in customers:\n",
    "        if visitedCustomers[c] == False:\n",
    "            print(f\"{c}, \", end=\"\")\n",
    "    print()\n",
    "    for i in locations:\n",
    "        for j in locations:\n",
    "            if i != 0:\n",
    "                if i != j:\n",
    "                    if model_flow.getAttr('x',x)[i, j] == 1:\n",
    "                        print(f\"Client {i}: service start time = {model_flow.getAttr('x', z)[i, j]}, time window = {timeWindows[i]}\")"
   ]
  },
  {
   "cell_type": "markdown",
   "metadata": {},
   "source": [
    "# Module 3\n",
    "The Module 3 is related to the *Last Mile Delivery Problem with Parcel Lockers*. This problem is a variant of VRP where vehicles have to deliver parcels to a set of consumers that can be served directly at their home or, as an alternative, to a locker station.\n",
    "\n",
    "So, the objective of the problem is to decide which locker stations to open to minimize the delivery time.\n",
    "\n",
    "For this reason, we have to update the previous notation. Now we have two sets of nodes:\n",
    "- $N_C$ is the set of customers\n",
    "- $N_L$ is the set of lockers\n",
    "\n",
    "So the complete direct graph will be $G = (N, A)$ where $N = {0} \\cup N_C \\cup N_L$ and $A$ is the arc set.\n",
    "\n",
    "In addition, the problem requires that a customer is willing to travel from home to collecthis package iff the distance between the customer and the locker is lower or equal to $d_{max}$.\n",
    "\n",
    "To separately account for arcs travelled by consumers, we define as $N_L^c \\in N_L$ the subset of potential parcel lockers located at a distance lower than or equal to $d_{max}$ from customer $c$.\n",
    "\n",
    "We can assume that locker stations have unbounded capacity."
   ]
  },
  {
   "cell_type": "code",
   "execution_count": 251,
   "metadata": {},
   "outputs": [],
   "source": [
    "N_C = [1, 2, 3, 4, 5, 6, 7, 8, 9, 10]  # clients\n",
    "N_L = [11, 12, 13]  # lockers\n",
    "N = [0] + N_C + N_L  # N = {0} ∪ N_C ∪ N_L (0 is the depot)\n",
    "num_nodes = len(N)\n",
    "A = [(i, j) for i in N for j in N if i != j] # set of arcs\n",
    "vehicles = [1, 2, 3]\n",
    "K = len(vehicles)\n",
    "t = {0: 0, 1: 2, 2: 3, 3: 2, 4: 1, 5: 2, 6: 4, 7: 2, 8: 3, 9: 2, 10: 1, 11: 3, 12: 5, 13: 2} # service time\n",
    "\n",
    "# maximum distance\n",
    "d_max = 10\n",
    "\n",
    "# Distances between nodes\n",
    "np.random.seed(0)  # Per la riproducibilità\n",
    "distance_matrix = {}\n",
    "\n",
    "for i in range(num_nodes):\n",
    "    for j in range(i + 1, num_nodes):\n",
    "        distance = np.random.randint(1, 31)  # Distanza casuale tra 1 e 30\n",
    "        distance_matrix[(N[i], N[j])] = distance\n",
    "        distance_matrix[(N[j], N[i])] = distance  # Distanza bidirezionale\n",
    "\n",
    "# Function to return the distance between two nodes\n",
    "def distance(i, j):\n",
    "    if i == j:\n",
    "        return 0\n",
    "    return distance_matrix.get((i, j), distance_matrix.get((j, i), float('inf')))\n",
    "\n",
    "time_windows = {\n",
    "    1: (3, 40),\n",
    "    2: (2, 40),\n",
    "    3: (6, 40),\n",
    "    4: (5, 40),\n",
    "    5: (2, 40),\n",
    "    6: (0, 40),\n",
    "    7: (4, 40),\n",
    "    8: (0, 40),\n",
    "    9: (0, 40),\n",
    "    10: (0, 40)\n",
    "}"
   ]
  },
  {
   "cell_type": "markdown",
   "metadata": {},
   "source": [
    "As in the previous module we can define the following **decision variables**:\n",
    "- $x_{ij} = \n",
    "\\begin{cases} \n",
    "1 & \\text{if a vehicle traverses arc (i, j)} \\\\\n",
    "0 & \\text{otherwise}\n",
    "\\end{cases}\n",
    "$\n",
    "- a continuous variable $z_{ij}$ indicating the time of arrival of a vehicle at node $j$ when arriving from $i$\n",
    "- for each set of nodes $S \\in N$, where $N$ is the total set of nodes, let $$\\delta^+(S) = \\{(i, j) \\in A : i \\in S, j \\notin S\\}$$ $$\\delta^-(S) = \\{(i, j) \\in A : i \\notin S, j \\in S\\}$$\n",
    "be the set of arcs leaving and entering set S. So, if $S = {i}$ then $\\delta^+(S) = \\delta^+({i})$\n",
    "- The decision to open a locker at any location $l \\in N_L$ is regulated by the binary variable \n",
    "$$y_{l} = \n",
    "\\begin{cases} \n",
    "1 & \\text{if the locker is opened} \\\\\n",
    "0 & \\text{otherwise}\n",
    "\\end{cases}\n",
    "$$\n",
    "- $w_{cl} = \n",
    "\\begin{cases} \n",
    "1 & \\text{if customer c travels to locker l} \\\\\n",
    "0 & \\text{otherwise (the consumer receives the parcel directly at\n",
    "home)}\n",
    "\\end{cases}\n",
    "$"
   ]
  },
  {
   "cell_type": "code",
   "execution_count": 252,
   "metadata": {},
   "outputs": [],
   "source": [
    "model = gp.Model(\"VRPPL\")\n",
    "\n",
    "# Decision Variables\n",
    "\n",
    "# 1 if arc (i, j) is travelled\n",
    "x = model.addVars(N, N, vtype=GRB.BINARY, name=\"x\")\n",
    "\n",
    "# Arriving time at node j\n",
    "z = model.addVars(N, N, vtype=GRB.CONTINUOUS, name=\"z\")\n",
    "\n",
    "# 1 if locker i is opened\n",
    "y = model.addVars(N_L, vtype=GRB.BINARY, name=\"y\")\n",
    "\n",
    "# 1 if client c goes to locker i\n",
    "w = model.addVars(N_C, N_L, vtype=GRB.BINARY, name=\"w\")\n",
    "\n",
    "# Set of accessible lockers for each customer, respecting d_max\n",
    "N_L_c = {c: [l for l in N_L if distance(c, l) <= d_max] for c in N_C}\n",
    "\n",
    "# Objective function\n",
    "model.setObjective(\n",
    "    gp.quicksum(distance(i, j) * x[i, j] for i in N for j in N if i != j),\n",
    "    GRB.MINIMIZE\n",
    ")"
   ]
  },
  {
   "cell_type": "markdown",
   "metadata": {},
   "source": [
    "So, we can plot, for each customer, the set of lockers that can be reached"
   ]
  },
  {
   "cell_type": "code",
   "execution_count": 253,
   "metadata": {},
   "outputs": [
    {
     "data": {
      "text/plain": [
       "{1: [],\n",
       " 2: [13],\n",
       " 3: [],\n",
       " 4: [12],\n",
       " 5: [13],\n",
       " 6: [11, 12, 13],\n",
       " 7: [11, 12],\n",
       " 8: [11, 12, 13],\n",
       " 9: [12, 13],\n",
       " 10: []}"
      ]
     },
     "execution_count": 253,
     "metadata": {},
     "output_type": "execute_result"
    }
   ],
   "source": [
    "N_L_c"
   ]
  },
  {
   "cell_type": "markdown",
   "metadata": {},
   "source": [
    "We can now formulate the **constraints**:\n",
    "- This constraints impose that each customer $c \\in N_C$ is served either at home ($\\sum_{l \\in N_L^c}w_{cl} = 0$) or at a locker station ($\\sum_{l \\in N_L^c}w_{cl} = 1$), hence customers are included in a tour only when they are not travelling to any locker.\n",
    "$$\\sum_{(i,c) \\in \\delta^-(c)}x_{ic} = \\sum_{(c,i) \\in \\delta^+(c)}x_{ci} = 1 - \\sum_{l \\in N_L^c}w_{cl} \\quad \\forall c \\in N_C$$"
   ]
  },
  {
   "cell_type": "code",
   "execution_count": 254,
   "metadata": {},
   "outputs": [],
   "source": [
    "for c in N_C:\n",
    "    # Primo membro: somma degli archi entranti nel cliente c\n",
    "    incoming_arcs = gp.quicksum(x[i, c] for i in N if (i, c) in A)  # δ^-(c)\n",
    "    \n",
    "    # Secondo membro: somma degli archi uscenti dal cliente c\n",
    "    outgoing_arcs = gp.quicksum(x[c, i] for i in N if (c, i) in A)  # δ^+(c)\n",
    "    \n",
    "    # Somma delle variabili w[c, l] per i locker che possono servire il cliente c\n",
    "    lockers_used = gp.quicksum(w[c, l] for l in N_L_c[c])\n",
    "    \n",
    "    # Vincolo: cliente servito direttamente o tramite locker\n",
    "    model.addConstr(incoming_arcs == outgoing_arcs, name=f\"flow_conservation_c_{c}\")\n",
    "    model.addConstr(incoming_arcs == 1 - lockers_used, name=f\"served_directly_or_locker_c_{c}\")"
   ]
  },
  {
   "cell_type": "markdown",
   "metadata": {},
   "source": [
    "- This constraint set the inclusion of lockers into routes, stating that a vehicle needs to visit a locker only if it is open.\n",
    "$$\\sum_{(i,l)\\in \\delta^-(l)}x_{il} = \\sum_{(l,i)\\in \\delta^+(l)}x_{li} = y_l \\quad \\forall l \\in N_L$$"
   ]
  },
  {
   "cell_type": "code",
   "execution_count": 255,
   "metadata": {},
   "outputs": [],
   "source": [
    "for l in N_L:\n",
    "    # Somma degli archi che entrano nel locker l\n",
    "    model.addConstr(\n",
    "        gp.quicksum(x[i, l] for i in N if i != l) == y[l],\n",
    "        name=f\"visit_locker_in_{l}\"\n",
    "    )\n",
    "\n",
    "    # Somma degli archi che escono dal locker l\n",
    "    model.addConstr(\n",
    "        gp.quicksum(x[l, i] for i in N if i != l) == y[l],\n",
    "        name=f\"visit_locker_out_{l}\"\n",
    "    )"
   ]
  },
  {
   "cell_type": "markdown",
   "metadata": {},
   "source": [
    "- This constraint ensures that at most $K$ vehicles are used\n",
    "$$\\sum_{(0,j)\\in \\delta^+(0)}x_{0j} = \\sum_{(j,0)\\in \\delta^-(0)}x_{j0} \\le |K|$$"
   ]
  },
  {
   "cell_type": "code",
   "execution_count": 256,
   "metadata": {},
   "outputs": [
    {
     "data": {
      "text/plain": [
       "<gurobi.Constr *Awaiting Model Update*>"
      ]
     },
     "execution_count": 256,
     "metadata": {},
     "output_type": "execute_result"
    }
   ],
   "source": [
    "model.addConstr(\n",
    "    gp.quicksum(x[0, j] for j in N if j != 0) == gp.quicksum(x[j, 0] for j in N if j != 0),\n",
    "    name=\"balance_vehicles_in_out\"\n",
    ")\n",
    "\n",
    "model.addConstr(\n",
    "    gp.quicksum(x[0, j] for j in N if j != 0) <= K,\n",
    "    name=\"max_vehicles\"\n",
    ")"
   ]
  },
  {
   "cell_type": "markdown",
   "metadata": {},
   "source": [
    "- This constraint statrs that a client can travel to a locker only if it has been opened and served by one vehicle route\n",
    "$$w_{cl} \\le y_l \\quad \\forall c \\in N_C, l \\in N_L^c$$"
   ]
  },
  {
   "cell_type": "code",
   "execution_count": 257,
   "metadata": {},
   "outputs": [],
   "source": [
    "for c in N_C:\n",
    "    for l in N_L_c[c]:  # Solo i lockers accessibili dal cliente c\n",
    "        model.addConstr(\n",
    "            w[c, l] <= y[l],\n",
    "            name=f\"client_to_locker_{c}_{l}\"\n",
    "        )"
   ]
  },
  {
   "cell_type": "markdown",
   "metadata": {},
   "source": [
    "- This constraint determines the arrival time at two consecutive nodes, thus working as sub - tour elimination constraints. In particular, if node $j$ is visited immediately after node $i$, the time elapsed between the arrival in the two nodes is equal to the time $t_{ij}$ needed to travel between the two nodes plus the service time at node $i$.\n",
    "$$\\sum_{(i,j)\\in\\delta^+(i)}z_{ij} - \\sum_{(j,i)\\in\\delta^-(i)}z_{ji} = \\sum_{(i,j)\\in\\delta^+(i)}(t_{ij} + t_i)x_{ij} \\quad \\forall i \\in N_L \\cup N_C$$"
   ]
  },
  {
   "cell_type": "code",
   "execution_count": 258,
   "metadata": {},
   "outputs": [],
   "source": [
    "for i in N_L + N_C:\n",
    "    model.addConstr(\n",
    "        gp.quicksum(z[i, j] for j in N if (i, j) in A) - \n",
    "        gp.quicksum(z[j, i] for j in N if (j, i) in A) ==\n",
    "        gp.quicksum((distance(i, j) + t[i]) * x[i, j] for j in N if (i, j) in A),\n",
    "        name=f\"arrival_time_constraint_{i}\"\n",
    "    )"
   ]
  },
  {
   "cell_type": "markdown",
   "metadata": {},
   "source": [
    "- This constraint sets the lower and upper bound of variable $z_{ij}$. If arc $(i,j)$ is traversed, then the arrival time at node $j$ must be greater than the time required to leave the depot and serve the customer $i$ ($t_{0,i} + t_{i}$) and lower than the allowed tour length ($T$) minus the time required to serve the client $j$ and return to the depot ($t_j + t_{j0}$)\n",
    "$$(t_{0i} + t_{ij} + t_i)x_{ij} \\le z_{ij} \\le (T - t_{j0} - t_j)x_{ij} \\quad \\forall (i,j) \\in A$$"
   ]
  },
  {
   "cell_type": "code",
   "execution_count": 259,
   "metadata": {},
   "outputs": [],
   "source": [
    "T = 100  # lunghezza massima del tour\n",
    "\n",
    "# Aggiungi vincoli per ogni arco (i, j) ∈ A\n",
    "for i, j in A:\n",
    "    if i != j:\n",
    "        # Vincolo inferiore: (t_{0i} + t_{ij} + t_i)x_{ij} ≤ z_{ij}\n",
    "        model.addConstr(\n",
    "            (distance(0, i) + distance(i, j) + t[i]) * x[i, j] <= z[i, j],\n",
    "            name=f\"lower_bound_z_{i}_{j}\"\n",
    "        )\n",
    "        \n",
    "        # Vincolo superiore: z_{ij} ≤ (T - t_{j0} - t_j)x_{ij}\n",
    "        model.addConstr(\n",
    "            z[i, j] <= (T - distance(j, 0) - t[j]) * x[i, j],\n",
    "            name=f\"upper_bound_z_{i}_{j}\"\n",
    "        )"
   ]
  },
  {
   "cell_type": "markdown",
   "metadata": {},
   "source": [
    "- This constraint ensures that the time needed to travel from the depot to any visited node $i$ (when $x_{0i} = 1$) is equal to $t_{0i}$\n",
    "$$z_{0i} = t_{0i}x_{0i} \\quad \\forall i \\in N_L \\cup N_C$$"
   ]
  },
  {
   "cell_type": "code",
   "execution_count": 260,
   "metadata": {},
   "outputs": [],
   "source": [
    "for i in N_L + N_C:\n",
    "    model.addConstr(z[0, i] == distance(0, i) * x[0, i], name=f\"time_depot_to_{i}\")"
   ]
  },
  {
   "cell_type": "markdown",
   "metadata": {},
   "source": [
    "- This constraint ensures that the arriving time to each customer is in the range $[a, b]$"
   ]
  },
  {
   "cell_type": "code",
   "execution_count": 261,
   "metadata": {},
   "outputs": [],
   "source": [
    "for c in N_C:\n",
    "    a_c, b_c = time_windows[c]\n",
    "    \n",
    "    # Vincolo: il veicolo non può arrivare prima di a_c\n",
    "    model.addConstr(\n",
    "        gp.quicksum(z[i, c] for i in N if (i, c) in A) >= a_c, \n",
    "        name=f\"time_window_lower_bound_{c}\"\n",
    "    )\n",
    "    \n",
    "    # Vincolo: il veicolo non può arrivare dopo b_c\n",
    "    model.addConstr(\n",
    "        gp.quicksum(z[i, c] for i in N if (i, c) in A) <= b_c,\n",
    "        name=f\"time_window_upper_bound_{c}\"\n",
    "    )"
   ]
  },
  {
   "cell_type": "markdown",
   "metadata": {},
   "source": [
    "We define a function in order to print the final route."
   ]
  },
  {
   "cell_type": "code",
   "execution_count": 262,
   "metadata": {},
   "outputs": [],
   "source": [
    "def print_route_and_objective(solution_x, solution_z, N, N_C, N_L, model, time_windows):\n",
    "    # Teniamo traccia di quali nodi sono già stati visitati\n",
    "    visited = set()\n",
    "    \n",
    "    # Inizia dal deposito (nodo 0)\n",
    "    current_node = 0\n",
    "    route = [current_node]\n",
    "    \n",
    "    while True:\n",
    "        # Trova il prossimo nodo che è collegato al nodo corrente con x_{current_node, j} = 1\n",
    "        next_node = None\n",
    "        for j in N:\n",
    "            if current_node != j and solution_x[current_node, j] > 0.5 and j not in visited:\n",
    "                next_node = j\n",
    "                break\n",
    "        \n",
    "        if next_node is None:\n",
    "            # Nessun nodo successivo trovato, ritorna al deposito\n",
    "            break\n",
    "        \n",
    "        # Aggiungi il nodo successivo alla rotta e segna come visitato\n",
    "        route.append(next_node)\n",
    "        visited.add(next_node)\n",
    "        current_node = next_node\n",
    "    \n",
    "    # Aggiungi il ritorno al deposito se necessario\n",
    "    if current_node != 0:\n",
    "        route.append(0)\n",
    "    \n",
    "    # Stampa il percorso del veicolo\n",
    "    print(\"Optimal Route:\")\n",
    "    for i, node in enumerate(route):\n",
    "        if node == 0 and i != 0:  # Se arrivi al nodo 0 e non è il primo nodo\n",
    "            print(\"0\")  # Vai a capo dopo il nodo 0 e stampa \"0\" per il nuovo percorso\n",
    "            if i != len(route) - 1:  # Se non è l'ultimo nodo, inizia il nuovo percorso con \"0 ->\"\n",
    "                print(\"0 -> \", end=\"\")\n",
    "        else:\n",
    "            if i == len(route) - 1:  # Se è l'ultimo nodo non mettere la freccia\n",
    "                print(node, end=\"\")\n",
    "            else:\n",
    "                print(node, end=\" -> \")\n",
    "\n",
    "\n",
    "    \n",
    "    # Stampa il valore della funzione obiettivo\n",
    "    print(f\"Objective vfunction value: {model.objVal}\")\n",
    "    \n",
    "    # Stampa i tempi di arrivo confrontati con le finestre temporali\n",
    "    print(\"\\nCustomer arrival times and comparison with time windows:\")\n",
    "    for c in N_C:\n",
    "        a_c, b_c = time_windows[c]\n",
    "        arrival_time = None\n",
    "        for i in N:\n",
    "            if (i, c) in solution_z and solution_x[i, c] == 1:\n",
    "                arrival_time = solution_z[i, c]\n",
    "                break\n",
    "        if arrival_time is not None:\n",
    "            print(f\"Client {c}: arrival time = {arrival_time}, time windows = [{a_c}, {b_c}]\")\n",
    "            if arrival_time < a_c:\n",
    "                print(f\" -> Arrivo anticipato rispetto alla finestra temporale!\")\n",
    "            elif arrival_time > b_c:\n",
    "                print(f\" -> Arrivo in ritardo rispetto alla finestra temporale!\")\n",
    "        else:\n",
    "            print(f\"Client {c}: no arrival recorded\")\n",
    "\n",
    "    # Stampa quali clienti vanno a un locker\n",
    "    print(\"\\nCustomers going to a locker:\")\n",
    "    for c in N_C:\n",
    "        for l in N_L_c[c]:\n",
    "            if w[c, l].X > 0.5:  # Se il cliente c va al locker l\n",
    "                print(f\"Client {c} goes to locker {l}\")"
   ]
  },
  {
   "cell_type": "markdown",
   "metadata": {},
   "source": [
    "We can optimize the model and print the solutions:"
   ]
  },
  {
   "cell_type": "code",
   "execution_count": 263,
   "metadata": {},
   "outputs": [
    {
     "name": "stdout",
     "output_type": "stream",
     "text": [
      "Optimal Route:\n",
      "0 -> 5 -> 13 -> 2 -> 7 -> 6 -> 3 -> 0\n",
      "0 -> 8 -> 1 -> 10 -> 4 -> 0\n",
      "Objective vfunction value: 75.0\n",
      "\n",
      "Customer arrival times and comparison with time windows:\n",
      "Client 1: arrival time = 13.0, time windows = [3, 40]\n",
      "Client 2: arrival time = 17.0, time windows = [2, 40]\n",
      "Client 3: arrival time = 37.0, time windows = [6, 40]\n",
      "Client 4: arrival time = 34.0, time windows = [5, 40]\n",
      "Client 5: arrival time = 4.0, time windows = [2, 40]\n",
      "Client 6: arrival time = 32.0, time windows = [0, 40]\n",
      "Client 7: arrival time = 29.0, time windows = [4, 40]\n",
      "Client 8: arrival time = 8.0, time windows = [0, 40]\n",
      "Client 9: no arrival recorded\n",
      "Client 10: arrival time = 23.0, time windows = [0, 40]\n",
      "\n",
      "Customers going to a locker:\n",
      "Client 9 goes to locker 13\n"
     ]
    }
   ],
   "source": [
    "model.Params.OutputFlag = 0\n",
    "\n",
    "model.optimize()\n",
    "\n",
    "# Dopo l'ottimizzazione\n",
    "if model.status == GRB.OPTIMAL:\n",
    "    # Estrai i valori ottimali delle variabili x_{ij} e z_{ij}\n",
    "    solution_x = model.getAttr('x', x)\n",
    "    solution_z = model.getAttr('x', z)\n",
    "    \n",
    "    # Stampa il tragitto del veicolo, i tempi di arrivo e il confronto con le time windows\n",
    "    print_route_and_objective(solution_x, solution_z, N, N_C, N_L, model, time_windows)\n"
   ]
  }
 ],
 "metadata": {
  "kernelspec": {
   "display_name": "Python 3",
   "language": "python",
   "name": "python3"
  },
  "language_info": {
   "codemirror_mode": {
    "name": "ipython",
    "version": 3
   },
   "file_extension": ".py",
   "mimetype": "text/x-python",
   "name": "python",
   "nbconvert_exporter": "python",
   "pygments_lexer": "ipython3",
   "version": "3.10.12"
  }
 },
 "nbformat": 4,
 "nbformat_minor": 2
}
