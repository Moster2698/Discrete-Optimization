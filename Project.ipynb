{
 "cells": [
  {
   "cell_type": "markdown",
   "metadata": {},
   "source": [
    "# Project Discrete Optimization and Decision Making"
   ]
  },
  {
   "cell_type": "markdown",
   "metadata": {},
   "source": [
    "## First point"
   ]
  },
  {
   "cell_type": "markdown",
   "metadata": {},
   "source": [
    "This project involves designing an efficient last-mile delivery system for a city. A company has a set of customers $C = \\{1, \\ldots, \\overline{c}\\}$, each requiring the delivery of a package. The weight of each package $w_c, c \\in C$ is known. The delivery time for each customer is equal to $s_c, c \\in C$. The company has a set $K = \\{1, \\ldots, \\overline{k}\\}$ of delivery vans available that all start from the same depot $0$ at time $0$, have the same capacity $W$, and must return to the depot withing $t_{max}$. Each vehicle can exit the depot at most once. The problem can be formulated on a complete directed graph $G = (V, A)$ where $V = C \\cup \\{0\\}$ is the set of nodes and $A = \\{(i,j) | i, j \\in V, i \\neq j\\}$ is the set of arcs. Each arc can be traveled at most once by any of the vehicles. For each arc $(i, j) \\in A$, let us define the time $t_{ij}$ required to travel over the arc. Travel times satisfy the triangle inequality. The goal of the company is to minimize the total time required to complete the service for all customers. Provide a mathematical formulation of the problem and its optimal solution. "
   ]
  },
  {
   "cell_type": "markdown",
   "metadata": {},
   "source": [
    "### Mathematical Model"
   ]
  },
  {
   "cell_type": "markdown",
   "metadata": {},
   "source": [
    "## Import Libraries"
   ]
  },
  {
   "cell_type": "code",
   "execution_count": 62,
   "metadata": {},
   "outputs": [],
   "source": [
    "import numpy as np\n",
    "import matplotlib.pyplot as plt\n",
    "from scipy.spatial import distance\n",
    "import random\n",
    "import gurobipy as gp\n",
    "from gurobipy import GRB"
   ]
  },
  {
   "cell_type": "markdown",
   "metadata": {},
   "source": [
    "## First point"
   ]
  },
  {
   "cell_type": "code",
   "execution_count": 63,
   "metadata": {},
   "outputs": [],
   "source": [
    "\n",
    "# Sample data\n",
    "N_0 = [1, 2, 3]  # Customers\n",
    "K = [1,2]     # Vehicles\n",
    "N = N_0 + [0]    # Nodes (including depot 0)\n",
    "A = [(i, j) for i in N for j in N if i != j] #set of arcs\n",
    "Q = 10         # Vehicle capacity\n",
    "q = {1: 2, 2: 3, 3: 4}  # Package weights\n",
    "t = {0: 0, 1: 40, 2: 20, 3: 10}  # Service times for each customer\n",
    "# Travel times\n",
    "t_ij = {\n",
    "    (0, 1): 20, (0, 2): 20, (0, 3): 20,\n",
    "    (1, 0): 20, (1, 2): 25, (1, 3): 30,\n",
    "    (2, 0): 40, (2, 1): 25, (2, 3): 35,\n",
    "    (3, 0): 30, (3, 1): 30, (3, 2): 35\n",
    "}\n",
    "a = {1: 5, 2: 15, 3: 25}  # lower time window constraint\n",
    "b = {1: 100, 2: 100, 3: 100} # upper time window constraint\n",
    "R = [(1,3,2)] # if client 1 and 2 are served by the same van then client 3's van must be different"
   ]
  },
  {
   "cell_type": "code",
   "execution_count": 64,
   "metadata": {},
   "outputs": [],
   "source": [
    "model = gp.Model(\"last_mile_delivery_with_time_windows_and_restrictions\")\n",
    "x = model.addVars(A, vtype=GRB.BINARY, name=\"x\") #1 if a vehicle traverses (i, j), 0 otherwise\n",
    "f = model.addVars(A, vtype=GRB.INTEGER, name = \"f\") #amount of commodity flowing on arc (i,j) \n",
    "y = model.addVars(N_0, vtype=GRB.INTEGER, name = \"y\") #starting time of service at node j\n",
    "s = model.addVars(N_0, vtype = GRB.INTEGER, name=\"s\") #route duration if j is the last node visited before the depot\n",
    "#z = model.addVars(N_0, K, vtype=GRB.BINARY, name=\"z\") #1 if node i is served by van k\n",
    "\n",
    "model.setObjective(gp.quicksum((t_ij[i, j]) * x[i, j] for (i, j) in A), GRB.MINIMIZE)\n",
    "\n",
    "\n",
    "# (5) number of exit vehicles == total number of vehicles\n",
    "constraint_vehicles = None\n",
    "for j in N_0:\n",
    "    if constraint_vehicles == None:\n",
    "        constraint_vehicles = x[0, j]\n",
    "    else:\n",
    "        constraint_vehicles += x[0, j]\n",
    "model.addConstr(constraint_vehicles == len(K))\n",
    "\n",
    "# (6) Vehicles entering in each node == 1\n",
    "for i in N_0:\n",
    "    constraint_entering_flow = None\n",
    "    for j in N:\n",
    "        if i != j:\n",
    "            if constraint_entering_flow == None:\n",
    "                constraint_entering_flow = x[i, j]\n",
    "            else:\n",
    "                constraint_entering_flow += x[i, j]\n",
    "    model.addConstr(constraint_entering_flow == 1)\n",
    "# (7) Vehicles out of each node == 1\n",
    "for j in N_0:\n",
    "    constraint_exit_flow = None\n",
    "    for i in N:\n",
    "        if i != j:\n",
    "            if constraint_exit_flow == None:\n",
    "                constraint_exit_flow = x[i, j]\n",
    "            else:\n",
    "                constraint_exit_flow += x[i, j]\n",
    "    model.addConstr(constraint_exit_flow == 1)\n",
    "\n",
    "# (8) Control that each package is served correctly to each node\n",
    "for i in N_0:\n",
    "    constraint_quantity_stability = None\n",
    "    sum_fji = None\n",
    "    sum_fij = None\n",
    "    for j in N:\n",
    "        if i != j:\n",
    "            if sum_fji == None:\n",
    "                sum_fji = f[j, i]\n",
    "            else:\n",
    "                sum_fji += f[j, i]\n",
    "            if sum_fij == None:\n",
    "                sum_fij = f[i, j]\n",
    "            else:\n",
    "                sum_fij += f[i, j]\n",
    "    model.addConstr((sum_fji - sum_fij) == q[i])\n",
    "\n",
    "# (9) current capacity > next necessary capacity\n",
    "for (i,j) in A:\n",
    "    if j != 0:\n",
    "        model.addConstr((q[j] * x[i, j]) <= f[i, j])\n",
    "    if i != 0:\n",
    "        model.addConstr(f[i, j] <= (Q - q[i])*x[i, j])\n",
    "\n",
    "# (11) ???????????\n",
    "M = 10e7\n",
    "for (i, j) in A:\n",
    "    if i != 0 and j != 0:\n",
    "        model.addConstr(y[i] - y[j] + t[i] + t_ij[i, j] <= M*(1 - x[i, j]))\n",
    "    elif j != 0:\n",
    "        model.addConstr(-y[j] + t[i] + t_ij[i, j] <= M*(1 - x[i, j]))\n",
    "\n",
    "L = 10e7\n",
    "for j in N_0:\n",
    "    model.addConstr(y[j] + t[j] - s[j]  <= L*(1 - x[j, 0]))\n",
    "\n",
    "# (10) time window constraint\n",
    "for i in N_0:\n",
    "    model.addConstr(y[i] >= a[i], name=f\"time_window_lower_{i}\")\n",
    "    model.addConstr(y[i] <= b[i], name=f\"time_window_upper_{i}\")\n",
    "\n",
    "# tuple constraint with variable z (doesn't work)\n",
    "'''\n",
    "for i in N_0:\n",
    "    model.addConstr(gp.quicksum(z[i, k] for k in K) == 1)\n",
    "\n",
    "for i in N_0:\n",
    "    for j in N_0:\n",
    "        if i != j:\n",
    "            for k in K:\n",
    "                model.addConstr(x[i, j] <= z[i, k])\n",
    "                model.addConstr(x[i, j] <= z[j, k])\n",
    "        \n",
    "for (i, j, l) in R:\n",
    "    for k in K:\n",
    "        model.addConstr(z[i, k] + z[j, k] <= 1 + z[l, k])\n",
    "'''\n",
    "\n",
    "# tuple constraint without variable z\n",
    "# direct linkage between i,j,l\n",
    "for (i, j, l) in R:\n",
    "    model.addConstr(x[i, j] + x[i, l] + x[j, l] <= 1)\n",
    "\n",
    "# undirect linkage between i,j,l (example: i ==> j ==> k ==> l) consider only one intermediate node\n",
    "for (i, j, l) in R:\n",
    "    for k in N_0:\n",
    "        if k != i and k != j and k != l:\n",
    "            model.addConstr(x[i, j] + x[j, k] + x[i, k] + x[k, l] <= 2)"
   ]
  },
  {
   "cell_type": "code",
   "execution_count": 65,
   "metadata": {},
   "outputs": [
    {
     "name": "stdout",
     "output_type": "stream",
     "text": [
      "Gurobi Optimizer version 11.0.1 build v11.0.1rc0 (mac64[x86] - Darwin 23.3.0 23D60)\n",
      "\n",
      "CPU model: Intel(R) Core(TM) i3-1000NG4 CPU @ 1.10GHz\n",
      "Thread count: 2 physical cores, 4 logical processors, using up to 4 threads\n",
      "\n",
      "Optimize a model with 47 rows, 30 columns and 117 nonzeros\n",
      "Model fingerprint: 0x20411127\n",
      "Variable types: 0 continuous, 30 integer (12 binary)\n",
      "Coefficient statistics:\n",
      "  Matrix range     [1e+00, 1e+08]\n",
      "  Objective range  [2e+01, 4e+01]\n",
      "  Bounds range     [1e+00, 1e+00]\n",
      "  RHS range        [1e+00, 1e+08]\n",
      "Found heuristic solution: objective 125.0000000\n",
      "Presolve removed 47 rows and 30 columns\n",
      "Presolve time: 0.00s\n",
      "Presolve: All rows and columns removed\n",
      "\n",
      "Explored 0 nodes (0 simplex iterations) in 0.02 seconds (0.00 work units)\n",
      "Thread count was 1 (of 4 available processors)\n",
      "\n",
      "Solution count 2: 115 125 \n",
      "\n",
      "Optimal solution found (tolerance 1.00e-04)\n",
      "Best objective 1.150000000000e+02, best bound 1.150000000000e+02, gap 0.0000%\n",
      "(1, 0) -> 1.0\n",
      "(2, 1) -> 1.0\n",
      "(3, 0) -> 1.0\n",
      "(0, 2) -> 1.0\n",
      "(0, 3) -> 1.0\n",
      "y[1] = 100.0\n",
      "y[2] = 20.0\n",
      "y[3] = 100.0\n",
      "s[1] = 140.0\n",
      "s[2] = -0.0\n",
      "s[3] = 110.0\n"
     ]
    }
   ],
   "source": [
    "model.optimize()\n",
    "\n",
    "# Display results\n",
    "if model.Status == GRB.OPTIMAL:\n",
    "    solutions = model.getAttr('x', x)\n",
    "    for key in solutions:\n",
    "        if solutions[key] > 0.5:\n",
    "            print(key, \"->\",solutions[key])\n",
    "    model.write('model.lp')\n",
    "    for v in model.getVars():\n",
    "        if 'y' in  v.VarName :\n",
    "            print(f\"{v.VarName} = {v.X}\")\n",
    "        if 's' in v.VarName:\n",
    "            print(f\"{v.VarName} = {v.X}\")\n",
    "if model.Status == GRB.INFEASIBLE:\n",
    "        model.computeIIS()\n",
    "        model.write('model.ilp')"
   ]
  },
  {
   "cell_type": "code",
   "execution_count": null,
   "metadata": {},
   "outputs": [],
   "source": []
  }
 ],
 "metadata": {
  "kernelspec": {
   "display_name": "Python 3",
   "language": "python",
   "name": "python3"
  },
  "language_info": {
   "codemirror_mode": {
    "name": "ipython",
    "version": 3
   },
   "file_extension": ".py",
   "mimetype": "text/x-python",
   "name": "python",
   "nbconvert_exporter": "python",
   "pygments_lexer": "ipython3",
   "version": "3.10.12"
  }
 },
 "nbformat": 4,
 "nbformat_minor": 2
}
